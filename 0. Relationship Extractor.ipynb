{
 "cells": [
  {
   "cell_type": "code",
   "execution_count": 4,
   "metadata": {},
   "outputs": [],
   "source": [
    "import os\n",
    "import json\n",
    "from bs4 import BeautifulSoup\n",
    "\n",
    "## Designate input XLM file\n",
    "xml_filepath = \"Datasets/IRGC_sanctions.xml\"\n",
    "\n",
    "\n",
    "## Convert XML soup to JSON format\n",
    "def xml_to_json(element):\n",
    "    \"\"\"\n",
    "    Recursively parses XML soup, returning as JSON format \n",
    "    \"\"\"\n",
    "    \n",
    "    if isinstance(element, str):\n",
    "        return element\n",
    "    \n",
    "    if not element.contents:\n",
    "        return element.string\n",
    "    \n",
    "    result = {}\n",
    "    \n",
    "    for child in element.children:\n",
    "        \n",
    "        if isinstance(child, str):\n",
    "            continue\n",
    "        \n",
    "        if child.name not in result:\n",
    "            result[child.name] = xml_to_json(child)\n",
    "            \n",
    "        else:\n",
    "            if not isinstance(result[child.name], list):\n",
    "                result[child.name] = [result[child.name]]\n",
    "            result[child.name].append(xml_to_json(child))\n",
    "            \n",
    "    ### Directly capture text nodes without 'text' key\n",
    "    if element.string and element.string.strip():\n",
    "        return element.string.strip()\n",
    "    \n",
    "    return result"
   ]
  },
  {
   "cell_type": "code",
   "execution_count": 93,
   "metadata": {},
   "outputs": [],
   "source": [
    "def find_relationships(entity):\n",
    "    \n",
    "    ## Confirm entity icludes relationship information\n",
    "    if \"relationships\" not in entity.keys():\n",
    "        print(\"no relationships found\")\n",
    "        return \n",
    "    \n",
    "    ## Skip if relationships element is empty \n",
    "    if entity[\"relationships\"] == None:\n",
    "        print(\"empty relationships element\")\n",
    "        return\n",
    "    \n",
    "    ## Record Entity Type\n",
    "    entity_type = entity[\"generalInfo\"][\"entityType\"]\n",
    "    \n",
    "    ## Collect entity name \n",
    "    name_ele = entity[\"names\"][\"name\"]\n",
    "    \n",
    "    ### For \"entity\" entities \n",
    "\n",
    "    \n",
    "    #### If name element is dict\n",
    "    if type(name_ele) == dict:\n",
    "        \n",
    "        ##### Find Latin translation if more than one translation is present\n",
    "        translation_element = name_ele[\"translations\"][\"translation\"]\n",
    "        \n",
    "        if type(translation_element) == dict:\n",
    "           \n",
    "            if entity_type == \"Entity\":\n",
    "                entity_name = translation_element[\"nameParts\"][\"namePart\"][\"value\"]\n",
    "           \n",
    "            elif entity_type == \"Individual\":\n",
    "                \n",
    "                name_parts = translation_element[\"nameParts\"][\"namePart\"]\n",
    "                \n",
    "                name_dict = {}\n",
    "                \n",
    "                compiled_name = \"\"\n",
    "                \n",
    "                for part in name_parts:\n",
    "                    name_dict[part[\"type\"]] = part[\"value\"]\n",
    "                    \n",
    "                if \"First Name\" in name_dict.keys():\n",
    "                    first_name = name_dict[\"First Name\"] + \" \"\n",
    "                    compiled_name += first_name\n",
    "                    \n",
    "                if \"Middle Name\" in name_dict.keys():\n",
    "                    middle_name = name_dict[\"Middle Name\"] + \" \"\n",
    "                    compiled_name += middle_name\n",
    "                \n",
    "                if \"Last Name\" in name_dict.keys():\n",
    "                    last_name = name_dict[\"Last Name\"]\n",
    "                    compiled_name += last_name\n",
    "                \n",
    "                # Just to cover if Last Name is not present\n",
    "                entity_name = compiled_name.strip() \n",
    "                \n",
    "        elif type(translation_element) == list:\n",
    "            for trans in translation_element:\n",
    "                if trans[\"script\"] == \"Latin\":\n",
    "                    if entity_type == \"Entity\":\n",
    "                        entity_name = trans[\"nameParts\"][\"namePart\"][\"value\"]\n",
    "\n",
    "    #### If name element is a list, aliases are present \n",
    "    elif type(name_ele) == list:\n",
    "        \n",
    "        ##### Find the primary name \n",
    "        for name in name_ele:\n",
    "            \n",
    "            if name[\"isPrimary\"] == \"true\":\n",
    "                \n",
    "                name_translations = name[\"translations\"][\"translation\"] \n",
    "\n",
    "                ##### Find Latin translation if more than one translation is present\n",
    "                if type(name_translations) == dict:\n",
    "                    entity_name = name[\"translations\"][\"translation\"][\"formattedFullName\"]\n",
    "                                                \n",
    "                elif type(name_translations) == list:\n",
    "                    for translation in name[\"translations\"][\"translation\"]:\n",
    "                        if translation[\"script\"] == \"Latin\":\n",
    "                            entity_name = translation[\"formattedFullName\"]\n",
    "\n",
    "    elif entity_type == \"Individual\":\n",
    "        entity_name = \"individual lol\"\n",
    "    \n",
    "    ### Collect relationship information\n",
    "    relationships = entity[\"relationships\"][\"relationship\"]\n",
    "    rel_list = []\n",
    "    \n",
    "    # print(f\"bbb{entity_name}\")\n",
    "    if type(relationships) == dict:\n",
    "        \n",
    "        rel_type = relationships[\"type\"]\n",
    "        rel_entity = relationships[\"relatedEntity\"]\n",
    "        rel_list.append([entity_name, rel_type, rel_entity])\n",
    "        \n",
    "    elif type(relationships) == list: \n",
    "        \n",
    "        for rel in relationships:\n",
    "            \n",
    "            rel_type = rel[\"type\"]\n",
    "            rel_entity = rel[\"relatedEntity\"]\n",
    "            rel_list.append([entity_name, rel_type, rel_entity]) \n",
    "            \n",
    "    return rel_list"
   ]
  },
  {
   "cell_type": "code",
   "execution_count": 15,
   "metadata": {},
   "outputs": [
    {
     "name": "stdout",
     "output_type": "stream",
     "text": [
      "Entities found: 249\n",
      "{'generalInfo': {'identityId': '18235', 'entityType': 'Individual'}, 'sanctionsLists': {'sanctionsList': 'SDN List'}, 'sanctionsPrograms': {'sanctionsProgram': ['IFSR', 'IRGC', 'SDGT']}, 'sanctionsTypes': {'sanctionsType': 'Block'}, 'legalAuthorities': {'legalAuthority': 'Executive Order 13224 (Terrorism)'}, 'names': {'name': {'isPrimary': 'true', 'isLowQuality': 'false', 'translations': {'translation': {'isPrimary': 'true', 'script': 'Latin', 'formattedFirstName': 'Alireza', 'formattedLastName': 'ATABAKI', 'formattedFullName': 'ATABAKI, Alireza', 'nameParts': {'namePart': [{'type': 'First Name', 'value': 'Alireza'}, {'type': 'Last Name', 'value': 'Atabaki'}]}}}}}, 'addresses': {'address': None}, 'features': {'feature': [{'type': 'Additional Sanctions Information -', 'versionId': '28777', 'value': 'Subject to Secondary Sanctions', 'valueRefId': '91473', 'isPrimary': 'true'}, {'type': 'Birthdate', 'versionId': '28778', 'value': '1961', 'valueDate': {'fromDateBegin': '1961-01-01', 'fromDateEnd': '1961-01-01', 'toDateBegin': '1961-12-31', 'toDateEnd': '1961-12-31', 'isApproximate': 'false', 'isDateRange': 'false'}, 'isPrimary': 'true'}, {'type': 'Place of Birth', 'versionId': '28779', 'value': 'Tehran Province, Central Tehran', 'isPrimary': 'true'}]}, 'identityDocuments': {'identityDocument': {'type': 'National ID No.', 'name': 'ATABAKI, Alireza', 'documentNumber': '0042773296', 'isValid': 'true', 'issuingCountry': 'Iran'}}, 'relationships': {'relationship': {'type': 'Acting for or on behalf of', 'relatedEntity': 'ANSAR EXCHANGE'}}}\n"
     ]
    }
   ],
   "source": [
    "with open(xml_filepath, \"r\") as file:\n",
    "    xml_data = file.read()\n",
    "\n",
    "## Convert XML to JSON, isolate entity data \n",
    "soup = BeautifulSoup(xml_data, features='xml')\n",
    "\n",
    "entity_json = xml_to_json(soup)\n",
    "entity_data = entity_json['sanctionsData'][\"entities\"][\"entity\"]\n",
    "entity_data = [entity for entity in entity_data if entity[\"generalInfo\"][\"entityType\"] in [\"Individual\", \"Entity\"]]\n",
    "print(f\"Entities found: {len(entity_data)}\")\n",
    "print(entity_data[7])\n",
    "\n"
   ]
  },
  {
   "cell_type": "code",
   "execution_count": 94,
   "metadata": {},
   "outputs": [
    {
     "data": {
      "text/plain": [
       "[['Alireza Atabaki', 'Acting for or on behalf of', 'ANSAR EXCHANGE']]"
      ]
     },
     "execution_count": 94,
     "metadata": {},
     "output_type": "execute_result"
    }
   ],
   "source": [
    "test = find_relationships(entity_data[7])\n",
    "# entity_data[7][\"names\"][\"name\"][\"translations\"][\"translation\"][\"formattedFullName\"]\n",
    "\n",
    "test"
   ]
  },
  {
   "cell_type": "code",
   "execution_count": 45,
   "metadata": {},
   "outputs": [],
   "source": [
    "### Execute with main \n",
    "def main(input_file):\n",
    "    \n",
    "    with open(xml_filepath, \"r\") as file:\n",
    "        xml_data = file.read()\n",
    "\n",
    "    ## Convert XML to JSON, isolate entity data \n",
    "    soup = BeautifulSoup(xml_data, features='xml')\n",
    "    \n",
    "    entity_json = xml_to_json(soup)\n",
    "    entity_data = entity_json['sanctionsData'][\"entities\"][\"entity\"]\n",
    "    entity_data = [entity for entity in entity_data if entity[\"generalInfo\"][\"entityType\"] in [\"Individual\", \"Entity\"]]\n",
    "    print(f\"Entities found: {len(entity_data)}\")\n",
    "    print(entity_data[0])\n",
    "    \n",
    "    ## Find Relationships\n",
    "    relationships = []\n",
    "    \n",
    "    for entity in entity_data:\n",
    "        \n",
    "        rel_search = find_relationships(entity)\n",
    "        \n",
    "        if rel_search:\n",
    "            if type(rel_search[0]) == str:\n",
    "                relationships.append(rel_search)\n",
    "            \n",
    "            elif type(rel_search == list):\n",
    "                for rel in rel_search:\n",
    "                    relationships.append(rel)\n",
    "                \n",
    "        \n",
    "            \n",
    "            \n",
    "    # relationships = [find_relationships(entity) for entity in entity_data if (result := find_relationships(entity)) != None]\n",
    "\n",
    "        \n",
    "    return relationships"
   ]
  },
  {
   "cell_type": "code",
   "execution_count": 46,
   "metadata": {},
   "outputs": [
    {
     "name": "stdout",
     "output_type": "stream",
     "text": [
      "Entities found: 249\n",
      "{'generalInfo': {'identityId': '18423', 'entityType': 'Entity'}, 'sanctionsLists': {'sanctionsList': 'SDN List'}, 'sanctionsPrograms': {'sanctionsProgram': ['FTO', 'IRGC']}, 'sanctionsTypes': {'sanctionsType': 'Block'}, 'legalAuthorities': {'legalAuthority': 'INA'}, 'names': {'name': [{'isPrimary': 'true', 'isLowQuality': 'false', 'translations': {'translation': {'isPrimary': 'true', 'script': 'Latin', 'formattedLastName': 'IRGC GROUND FORCES', 'formattedFullName': 'IRGC GROUND FORCES', 'nameParts': {'namePart': {'type': 'Entity Name', 'value': 'IRGC Ground Forces'}}}}}, {'isPrimary': 'false', 'aliasType': 'A.K.A.', 'isLowQuality': 'false', 'translations': {'translation': {'isPrimary': 'true', 'script': 'Latin', 'formattedLastName': 'ISLAMIC REVOLUTION GUARDS CORPS GROUND FORCE', 'formattedFullName': 'ISLAMIC REVOLUTION GUARDS CORPS GROUND FORCE', 'nameParts': {'namePart': {'type': 'Entity Name', 'value': 'Islamic Revolution Guards Corps Ground Force'}}}}}]}, 'addresses': {'address': [{'country': 'Iran', 'translations': {'translation': {'isPrimary': 'true', 'script': 'Latin', 'addressParts': {'addressPart': {'type': 'CITY', 'value': 'Tehran'}}}}}, {'country': 'Syria', 'translations': {'translation': {'isPrimary': 'true', 'script': 'Latin'}}}]}, 'features': {'feature': {'type': 'Additional Sanctions Information -', 'versionId': '29189', 'value': 'Subject to Secondary Sanctions', 'valueRefId': '91473', 'isPrimary': 'true'}}}\n",
      "[['', 'Acting for or on behalf of', 'ANSAR BANK'], ['', 'Owned or Controlled By', 'ANSAR BANK'], ['ANSAR BANK BROKERAGE COMPANY', 'Owned or Controlled By', 'ANSAR BANK'], ['ANSAR INFORMATION TECHNOLOGY COMPANY', 'Owned or Controlled By', 'ANSAR BANK'], ['ANSAR EXCHANGE', 'Owned or Controlled By', 'ANSAR BANK'], ['ANSAR EXCHANGE', 'Providing support to', 'ISLAMIC REVOLUTIONARY GUARD CORPS'], ['ANSAR EXCHANGE', 'Providing support to', 'ISLAMIC REVOLUTIONARY GUARD CORPS (IRGC)-QODS FORCE'], ['', 'Acting for or on behalf of', 'ANSAR EXCHANGE'], ['', 'Owned or Controlled By', 'ATABAKI, Alireza'], ['', 'Providing support to', 'MINISTRY OF DEFENSE AND ARMED FORCES LOGISTICS'], [\"'ABD AL-HAMID AL-ASADI, Makki Kazim\", 'Providing support to', 'ISLAMIC REVOLUTIONARY GUARD CORPS (IRGC)-QODS FORCE'], ['SOUTH WEALTH RESOURCES COMPANY', 'Providing support to', 'ISLAMIC REVOLUTIONARY GUARD CORPS (IRGC)-QODS FORCE'], ['', 'Acting for or on behalf of', 'ISLAMIC REVOLUTIONARY GUARD CORPS'], ['PAKPOUR, Mohammad', 'Acting for or on behalf of', 'ISLAMIC REVOLUTIONARY GUARD CORPS'], [\"OZMA'I, Ali\", 'Acting for or on behalf of', 'ISLAMIC REVOLUTIONARY GUARD CORPS'], ['RAVANKAR, Mansur', 'Acting for or on behalf of', 'ISLAMIC REVOLUTIONARY GUARD CORPS'], ['BADIN, Yadollah', 'Acting for or on behalf of', 'ISLAMIC REVOLUTIONARY GUARD CORPS'], ['GHOLAMSHAHI, Abbas', 'Acting for or on behalf of', 'ISLAMIC REVOLUTIONARY GUARD CORPS'], ['', 'Acting for or on behalf of', 'ISLAMIC REVOLUTIONARY GUARD CORPS'], [\"AL-ZAYDI, Shibl Muhsin 'Ubayd\", 'Providing support to', 'HIZBALLAH'], [\"AL-ZAYDI, Shibl Muhsin 'Ubayd\", 'Acting for or on behalf of', 'ISLAMIC REVOLUTIONARY GUARD CORPS (IRGC)-QODS FORCE'], ['ZAYNABIYOUN BRIGADE', 'Providing support to', 'ISLAMIC REVOLUTIONARY GUARD CORPS (IRGC)-QODS FORCE'], ['FATEMIYOUN DIVISION', 'Providing support to', 'ISLAMIC REVOLUTIONARY GUARD CORPS (IRGC)-QODS FORCE'], ['GLOBAL VISION GROUP', 'Owned or Controlled By', 'ALCHWIKI, Mhd Amer'], ['GLOBAL VISION GROUP', 'Providing support to', 'BANIAS REFINERY COMPANY'], ['ALCHWIKI, Mhd Amer', 'Acting for or on behalf of', 'GLOBAL VISION GROUP'], ['ALCHWIKI, Mhd Amer', 'Providing support to', 'HIZBALLAH'], ['ALCHWIKI, Mhd Amer', 'Providing support to', 'ISLAMIC REVOLUTIONARY GUARD CORPS (IRGC)-QODS FORCE'], ['SAJJAD, Rasoul', 'Acting for or on behalf of', 'ISLAMIC REVOLUTIONARY GUARD CORPS (IRGC)-QODS FORCE'], ['YAGHOUBI MIAB, Hossein', 'Acting for or on behalf of', 'ISLAMIC REVOLUTIONARY GUARD CORPS (IRGC)-QODS FORCE'], ['SABURINEZHAD, Hasan', 'Acting for or on behalf of', 'ISLAMIC REVOLUTIONARY GUARD CORPS (IRGC)-QODS FORCE'], ['AL KHAMAEL MARITIME SERVICES', 'Owned or Controlled By', 'ISLAMIC REVOLUTIONARY GUARD CORPS (IRGC)-QODS FORCE'], ['MUSAVIR, Sayyed Yaser', 'Acting for or on behalf of', 'ISLAMIC REVOLUTIONARY GUARD CORPS (IRGC)-QODS FORCE'], ['RECONSTRUCTION ORGANIZATION OF HOLY SHRINES IN IRAQ', 'Owned or Controlled By', 'ISLAMIC REVOLUTIONARY GUARD CORPS (IRGC)-QODS FORCE'], ['PELARAK, Hassan', 'Acting for or on behalf of', 'ISLAMIC REVOLUTIONARY GUARD CORPS (IRGC)-QODS FORCE'], ['FADAKAR, Alireza', 'Acting for or on behalf of', 'ISLAMIC REVOLUTIONARY GUARD CORPS (IRGC)-QODS FORCE'], ['SHOUSHTARIPOUSTI, Masoud', 'Acting for or on behalf of', 'ISLAMIC REVOLUTIONARY GUARD CORPS (IRGC)-QODS FORCE'], ['GHASEMZADEH, Mehdi', 'Acting for or on behalf of', 'ISLAMIC REVOLUTIONARY GUARD CORPS (IRGC)-QODS FORCE'], ['BAHJAT AL KAWTHAR COMPANY FOR CONSTRUCTION AND TRADING LTD.', 'Owned or Controlled By', 'ISLAMIC REVOLUTIONARY GUARD CORPS (IRGC)-QODS FORCE'], ['NATIONAL DEVELOPMENT FUND OF IRAN', 'Providing support to', 'ISLAMIC REVOLUTIONARY GUARD CORPS (IRGC)-QODS FORCE'], ['NATIONAL DEVELOPMENT FUND OF IRAN', 'Providing support to', 'MINISTRY OF DEFENSE AND ARMED FORCES LOGISTICS'], ['SOLEIMANI, Gholamreza', 'Acting for or on behalf of', 'BASIJ RESISTANCE FORCE'], [\"IZADI, Muhammad Sa'id\", 'Providing support to', 'HAMAS'], [\"IZADI, Muhammad Sa'id\", 'Leader or official of', 'ISLAMIC REVOLUTIONARY GUARD CORPS (IRGC)-QODS FORCE'], ['OWHADI, Mohammad Ebrahim', 'Acting for or on behalf of', 'ISLAMIC REVOLUTIONARY GUARD CORPS (IRGC)-QODS FORCE'], ['OWHADI, Mohammad Ebrahim', 'Providing support to', 'TALIBAN'], ['TEHRANI, Sayyed Mohammad Ali Haddadnezhad', 'Acting for or on behalf of', 'ISLAMIC REVOLUTIONARY GUARD CORPS RESEARCH AND SELF-SUFFICIENCY JEHAD ORGANIZATION'], ['AZARPISHEH, Mehdi', 'Acting for or on behalf of', 'ISLAMIC REVOLUTIONARY GUARD CORPS (IRGC)-QODS FORCE'], ['SHIR AMIN, Javad Bordbar', 'Acting for or on behalf of', 'ISLAMIC REVOLUTIONARY GUARD CORPS'], ['KAZEMABAD, Mahmud Bagheri', 'Acting for or on behalf of', 'ISLAMIC REVOLUTIONARY GUARD CORPS AL-GHADIR MISSILE COMMAND'], [\"JA'FARI, Mohammad Agha\", 'Acting for or on behalf of', 'ISLAMIC REVOLUTIONARY GUARD CORPS AL-GHADIR MISSILE COMMAND'], [\"NIKBAKHT, Mas'ud\", 'Acting for or on behalf of', 'ISLAMIC REVOLUTIONARY GUARD CORPS (IRGC)-QODS FORCE'], [\"NAJAFPUR, Sa'id\", 'Acting for or on behalf of', 'ISLAMIC REVOLUTIONARY GUARD CORPS (IRGC)-QODS FORCE'], [\"KHODA'I, Mohammad Hasan\", 'Acting for or on behalf of', 'ISLAMIC REVOLUTIONARY GUARD CORPS (IRGC)-QODS FORCE'], ['', 'Providing support to', 'ISLAMIC REVOLUTIONARY GUARD CORPS (IRGC)-QODS FORCE'], ['', 'Providing support to', 'ISLAMIC REVOLUTIONARY GUARD CORPS (IRGC)-QODS FORCE'], ['SALEHI, Foad', 'Providing support to', 'ISLAMIC REVOLUTIONARY GUARD CORPS (IRGC)-QODS FORCE'], ['SALEHI, Foad', 'Providing support to', 'VALADZAGHARD, Mohammadreza Khedmati'], ['', 'Providing support to', 'ISLAMIC REVOLUTIONARY GUARD CORPS (IRGC)-QODS FORCE'], ['', 'Owned or Controlled By', \"NAJAFPUR, Sa'id\"], ['RASHED EXCHANGE', 'Owned or Controlled By', 'VALADZAGHARD, Mohammadreza Khedmati'], ['JOINT PARTNERSHIP OF MOHAMMADREZA KHEDMATI AND ASSOCIATES', 'Owned or Controlled By', \"KHODA'I, Mohammad Hasan\"], ['JOINT PARTNERSHIP OF MOHAMMADREZA KHEDMATI AND ASSOCIATES', 'Owned or Controlled By', 'VALADZAGHARD, Mohammadreza Khedmati'], ['KAREEM, Aras Habib', 'Providing support to', 'ISLAMIC REVOLUTIONARY GUARD CORPS (IRGC)-QODS FORCE'], ['AL-BILAD ISLAMIC BANK FOR INVESTMENT AND FINANCE P.S.C.', 'Owned or Controlled By', 'KAREEM, Aras Habib'], ['', 'Providing support to', 'ISLAMIC REVOLUTIONARY GUARD CORPS (IRGC)-QODS FORCE'], ['AFKAR SYSTEM YAZD COMPANY', 'Owned or Controlled By', 'KHATIBI AGHADA, Ahmad'], ['MURAJ, Yousef Ali', 'Acting for or on behalf of', 'ISLAMIC REVOLUTIONARY GUARD CORPS (IRGC)-QODS FORCE'], ['', 'Acting for or on behalf of', 'ISLAMIC REVOLUTIONARY GUARD CORPS (IRGC)-QODS FORCE'], ['IRLU, Hasan', 'Acting for or on behalf of', 'ISLAMIC REVOLUTIONARY GUARD CORPS (IRGC)-QODS FORCE'], ['', 'Acting for or on behalf of', 'ISLAMIC REVOLUTIONARY GUARD CORPS AEROSPACE FORCE SELF SUFFICIENCY JIHAD ORGANIZATION'], ['AGHAJANI, Saeed', 'Acting for or on behalf of', 'ISLAMIC REVOLUTIONARY GUARD CORPS AIR FORCE'], ['BASIJ RESISTANCE FORCE', 'Owned or Controlled By', 'ISLAMIC REVOLUTIONARY GUARD CORPS'], ['BASIJ RESISTANCE FORCE', 'Providing support to', 'ISLAMIC REVOLUTIONARY GUARD CORPS (IRGC)-QODS FORCE'], ['MEHR-E EQTESAD-E IRANIAN INVESTMENT COMPANY', 'Owned or Controlled By', 'MEHR EQTESAD BANK'], ['FATTAH, Parviz', 'Acting for or on behalf of', 'ISLAMIC REVOLUTION MOSTAZAFAN FOUNDATION'], ['ANSAR BANK', 'Owned or Controlled By', 'ISLAMIC REVOLUTIONARY GUARD CORPS'], ['ANSAR BANK', 'Providing support to', 'ISLAMIC REVOLUTIONARY GUARD CORPS (IRGC)-QODS FORCE'], ['QASEMI, Rostam', 'Acting for or on behalf of', 'ISLAMIC REVOLUTIONARY GUARD CORPS (IRGC)-QODS FORCE'], ['QASEMI, Rostam', 'Acting for or on behalf of', 'SOLEIMANI, Qasem'], ['BANK MARKAZI JOMHOURI ISLAMI IRAN', 'Providing support to', 'HIZBALLAH'], ['BANK MARKAZI JOMHOURI ISLAMI IRAN', 'Providing support to', 'ISLAMIC REVOLUTIONARY GUARD CORPS (IRGC)-QODS FORCE'], ['NEJAT, Hossein', 'Acting for or on behalf of', 'ISLAMIC REVOLUTIONARY GUARD CORPS'], ['', 'Acting for or on behalf of', 'ISLAMIC REVOLUTIONARY GUARD CORPS'], [\"RAZAVI, Esma'il\", 'Acting for or on behalf of', 'ISLAMIC REVOLUTIONARY GUARD CORPS (IRGC)-QODS FORCE'], [\"RAZAVI, Esma'il\", 'Providing support to', 'TALIBAN'], ['SHAFAHI, Ahmad', 'Acting for or on behalf of', 'ISLAMIC REVOLUTIONARY GUARD CORPS'], ['NILFORUSHAN, Abbas', 'Acting for or on behalf of', 'ISLAMIC REVOLUTIONARY GUARD CORPS'], ['SHAHED AVIATION INDUSTRIES RESEARCH CENTER', 'Providing support to', 'ISLAMIC REVOLUTIONARY GUARD CORPS AIR FORCE'], ['OSANLOO, Mohammad Taghi', 'Acting for or on behalf of', 'ISLAMIC REVOLUTIONARY GUARD CORPS'], ['ASGARI, Hassan', 'Acting for or on behalf of', 'ISLAMIC REVOLUTIONARY GUARD CORPS'], ['HOSSEINI, Seyed Sadegh', 'Acting for or on behalf of', 'ISLAMIC REVOLUTIONARY GUARD CORPS'], ['MAROUFI, Hossein', 'Acting for or on behalf of', 'ISLAMIC REVOLUTIONARY GUARD CORPS'], ['HASSANZADEH, Hassan', 'Acting for or on behalf of', 'ISLAMIC REVOLUTIONARY GUARD CORPS'], ['BONYAD TAAVON SEPAH', 'Owned or Controlled By', 'ISLAMIC REVOLUTIONARY GUARD CORPS'], [\"ALA'ODDINI, Yahya\", 'Acting for or on behalf of', 'BONYAD TAAVON SEPAH'], ['', 'Acting for or on behalf of', 'ISLAMIC REVOLUTIONARY GUARD CORPS'], ['', 'Acting for or on behalf of', 'ISLAMIC REVOLUTIONARY GUARD CORPS'], ['NOROUZI, Aliasghar', 'Acting for or on behalf of', 'BONYAD TAAVON SEPAH'], ['KARIMI, Ahmad', 'Acting for or on behalf of', 'BONYAD TAAVON SEPAH'], ['TABATABAI, Seyyed Aminollah Emami', 'Acting for or on behalf of', 'BONYAD TAAVON SEPAH'], ['BABAMORADI, Jamal', 'Acting for or on behalf of', 'BONYAD TAAVON SEPAH'], ['TANGSIRI, Ali Reza', 'Acting for or on behalf of', 'ISLAMIC REVOLUTIONARY GUARD CORPS'], ['TANGSIRI, Ali Reza', 'Acting for or on behalf of', 'PARAVAR PARS COMPANY'], ['MOUSA, Mohammad Sadegh Heidari', 'Acting for or on behalf of', 'PARAVAR PARS COMPANY'], ['', 'Acting for or on behalf of', 'ISLAMIC REVOLUTIONARY GUARD CORPS'], ['SEYEDOSHOHADA, Ahmad Khadem', 'Acting for or on behalf of', 'ISLAMIC REVOLUTIONARY GUARD CORPS'], ['GOSHTASBI, Amanollah', 'Acting for or on behalf of', 'ISLAMIC REVOLUTIONARY GUARD CORPS'], ['', 'Acting for or on behalf of', 'ISLAMIC REVOLUTIONARY GUARD CORPS'], ['', 'Acting for or on behalf of', 'ISLAMIC REVOLUTIONARY GUARD CORPS'], ['', 'Acting for or on behalf of', 'ISLAMIC REVOLUTIONARY GUARD CORPS INTELLIGENCE ORGANIZATION'], ['SAYYARI, Mohammad Mehdi', 'Acting for or on behalf of', 'ISLAMIC REVOLUTIONARY GUARD CORPS INTELLIGENCE ORGANIZATION'], ['', 'Acting for or on behalf of', 'ISLAMIC REVOLUTIONARY GUARD CORPS INTELLIGENCE ORGANIZATION'], ['BAZGHANDI, Rouhollah', 'Acting for or on behalf of', 'ISLAMIC REVOLUTIONARY GUARD CORPS INTELLIGENCE ORGANIZATION'], ['GHOLIZADEH, Majid', 'Acting for or on behalf of', None], ['TASNIM NEWS AGENCY', 'Owned or Controlled By', 'ISLAMIC REVOLUTIONARY GUARD CORPS'], ['SHAKARAMI, Jamal', 'Acting for or on behalf of', 'ISLAMIC REVOLUTIONARY GUARD CORPS'], ['', 'Acting for or on behalf of', 'ISLAMIC REVOLUTIONARY GUARD CORPS'], ['', 'Acting for or on behalf of', 'ISLAMIC REVOLUTIONARY GUARD CORPS'], ['', 'Acting for or on behalf of', 'ISLAMIC REVOLUTIONARY GUARD CORPS'], ['GHEIB PARVAR, Gholamhossein', 'Acting for or on behalf of', 'ISLAMIC REVOLUTIONARY GUARD CORPS'], ['MOGHADAM FAR, Hamidreza', 'Acting for or on behalf of', 'ISLAMIC REVOLUTIONARY GUARD CORPS'], ['ABDOLLAHPOUR, Mohammad', 'Acting for or on behalf of', 'ISLAMIC REVOLUTIONARY GUARD CORPS'], ['POURJAMSHIDIAN, Ali Akbar', 'Acting for or on behalf of', 'ISLAMIC REVOLUTIONARY GUARD CORPS'], ['FARS NEWS AGENCY', 'Acting for or on behalf of', 'ISLAMIC REVOLUTIONARY GUARD CORPS'], ['SABERIN KISH COMPANY', 'Owned or Controlled By', 'ISLAMIC REVOLUTIONARY GUARD CORPS'], ['KHANI, Mostafa Mohammad', 'Acting for or on behalf of', 'ISLAMIC REVOLUTIONARY GUARD CORPS (IRGC)-QODS FORCE'], ['SHIRAZI, Ali Morshed', 'Acting for or on behalf of', 'ISLAMIC REVOLUTIONARY GUARD CORPS (IRGC)-QODS FORCE'], ['FAIZULLAHI, Ali Ahmad', 'Acting for or on behalf of', 'ISLAMIC REVOLUTIONARY GUARD CORPS'], ['JAHANDUST, Mojtaba', 'Providing support to', \"KATA'IB HIZBALLAH\"], ['ZAREE, Majid', 'Acting for or on behalf of', 'ISLAMIC REVOLUTIONARY GUARD CORPS (IRGC)-QODS FORCE'], ['BASAMAD ELECTRONIC POUYA ENGINEERING LIMITED LIABILITY COMPANY', 'Owned or Controlled By', None], ['', 'Providing support to', None], ['', 'Providing support to', None], ['TEYF TADBIR ARYA ENGINEERING COMPANY', 'Owned or Controlled By', None], ['INTEGRATED SCIENTIFIC MICROWAVE TECHNOLOGY SDN BHD', 'Providing support to', None], ['ARDAKANI, Hossein Hatefi', 'Providing support to', 'ISLAMIC REVOLUTIONARY GUARD CORPS AEROSPACE FORCE SELF SUFFICIENCY JIHAD ORGANIZATION'], ['', 'Providing support to', None], ['', 'Providing support to', None], ['', 'Acting for or on behalf of', 'ISLAMIC REVOLUTIONARY GUARD CORPS AEROSPACE FORCE SELF SUFFICIENCY JIHAD ORGANIZATION'], ['', 'Acting for or on behalf of', None], ['KAVAN ELECTRONICS BEHRAD LIMITED LIABILITY COMPANY', 'Owned or Controlled By', None], ['KAVAN ELECTRONICS BEHRAD LIMITED LIABILITY COMPANY', 'Providing support to', 'ISLAMIC REVOLUTIONARY GUARD CORPS AEROSPACE FORCE SELF SUFFICIENCY JIHAD ORGANIZATION'], ['MOHAMMADABADI, Mehdi Dehghani', 'Acting for or on behalf of', None], ['ARDAKANI, Gholamreza Ebrahimzadeh', 'Providing support to', None], ['', 'Providing support to', 'PISHGAM ELECTRONIC SAFEH COMPANY'], ['MANSURI, Milad', 'Leader or official of', 'IRANIAN ISLAMIC REVOLUTIONARY GUARD CORPS CYBER-ELECTRONIC COMMAND'], ['HOMAYUNFAL, Hamid', 'Leader or official of', 'IRANIAN ISLAMIC REVOLUTIONARY GUARD CORPS CYBER-ELECTRONIC COMMAND'], ['SABERIAN, Reza Mohammad Amin', 'Leader or official of', 'IRANIAN ISLAMIC REVOLUTIONARY GUARD CORPS CYBER-ELECTRONIC COMMAND'], ['LASHGARIAN, Hamid Reza', 'Leader or official of', 'IRANIAN ISLAMIC REVOLUTIONARY GUARD CORPS CYBER-ELECTRONIC COMMAND'], ['LASHGARIAN, Mahdi', 'Leader or official of', 'IRANIAN ISLAMIC REVOLUTIONARY GUARD CORPS CYBER-ELECTRONIC COMMAND'], ['', 'Providing support to', 'ISLAMIC REVOLUTIONARY GUARD CORPS (IRGC)-QODS FORCE'], ['SHIRINKAR, Mohammad Bagher', 'Leader or official of', 'IRANIAN ISLAMIC REVOLUTIONARY GUARD CORPS CYBER-ELECTRONIC COMMAND'], ['FALAHZADEH, Mohammad Reza', 'Acting for or on behalf of', 'ISLAMIC REVOLUTIONARY GUARD CORPS (IRGC)-QODS FORCE'], ['ABUTALEBI, Mohammad Sadegh', 'Acting for or on behalf of', 'OJE PARVAZ MADO NAFAR COMPANY'], ['', 'Acting for or on behalf of', 'KIMIA PART SIVAN COMPANY LLC'], ['ABUTALEBI, Ali Asghar', 'Acting for or on behalf of', 'OJE PARVAZ MADO NAFAR COMPANY'], ['EBRAHIMI FORUSHANI, Hamid Hajji', 'Acting for or on behalf of', 'KIMIA PART SIVAN COMPANY LLC'], ['SARTAJI, Abbas', 'Acting for or on behalf of', 'ISLAMIC REVOLUTIONARY GUARD CORPS (IRGC)-QODS FORCE'], ['ZAVARAKI, Hadi Jamshidi', 'Acting for or on behalf of', 'ISLAMIC REVOLUTIONARY GUARD CORPS (IRGC)-QODS FORCE'], ['', 'Acting for or on behalf of', 'KIMIA PART SIVAN COMPANY LLC'], ['AL-TAF, Ali Asghar', 'Acting for or on behalf of', 'KIMIA PART SIVAN COMPANY LLC'], ['TURANLU, Mohsen Sayyadi', 'Acting for or on behalf of', 'KIMIA PART SIVAN COMPANY LLC'], ['NAGHNEH, Mehdi Ghaffari', 'Acting for or on behalf of', 'ISLAMIC REVOLUTIONARY GUARD CORPS (IRGC)-QODS FORCE'], ['NAHAR DANI, Reza', 'Acting for or on behalf of', 'ISLAMIC REVOLUTIONARY GUARD CORPS (IRGC)-QODS FORCE'], ['FATEH ASEMAN SHARIF COMPANY', 'Providing support to', 'ISLAMIC REVOLUTIONARY GUARD CORPS'], ['', 'Acting for or on behalf of', None], ['', 'Acting for or on behalf of', 'KIMIA PART SIVAN COMPANY LLC'], ['ARAMBUNEZHAD, Hasan', 'Acting for or on behalf of', 'ISLAMIC REVOLUTIONARY GUARD CORPS (IRGC)-QODS FORCE'], ['ARAMBUNEZHAD, Hasan', 'Acting for or on behalf of', 'KIMIA PART SIVAN COMPANY LLC'], ['MOSHKANI, Abolfazl Ramazanzadeh', 'Acting for or on behalf of', 'ISLAMIC REVOLUTIONARY GUARD CORPS (IRGC)-QODS FORCE'], ['MEHRSAM ANDISHEH SAZ NIK', 'Acting for or on behalf of', 'IRANIAN ISLAMIC REVOLUTIONARY GUARD CORPS CYBER-ELECTRONIC COMMAND'], ['RAHMAN, Reza Kazemifar', 'Acting for or on behalf of', 'IRANIAN ISLAMIC REVOLUTIONARY GUARD CORPS CYBER-ELECTRONIC COMMAND'], ['DADEH AFZAR ARMAN', 'Acting for or on behalf of', 'IRANIAN ISLAMIC REVOLUTIONARY GUARD CORPS CYBER-ELECTRONIC COMMAND'], ['HARUNI, Hosein Mohammad', 'Acting for or on behalf of', None], ['NASAB, Alireza Shafie', 'Acting for or on behalf of', 'IRANIAN ISLAMIC REVOLUTIONARY GUARD CORPS CYBER-ELECTRONIC COMMAND'], ['', 'Acting for or on behalf of', 'IRANIAN ISLAMIC REVOLUTIONARY GUARD CORPS CYBER-ELECTRONIC COMMAND'], ['POUYA AIR', 'Providing support to', 'ISLAMIC REVOLUTIONARY GUARD CORPS AIR FORCE'], ['', 'Acting for or on behalf of', None], ['VAHABZADEH MOGHADAM, Seyed Mohsen', 'Acting for or on behalf of', None], ['ABDI ASJERD, Abbas', 'Acting for or on behalf of', None], ['BONYAN DANESH SHARGH PRIVATE COMPANY', 'Providing support to', 'ISLAMIC REVOLUTIONARY GUARD CORPS AEROSPACE FORCE SELF SUFFICIENCY JIHAD ORGANIZATION'], ['AZIMI, Mohammad Nazar', 'Acting for or on behalf of', 'ISLAMIC REVOLUTIONARY GUARD CORPS'], ['ASIABANI, Kourosh', 'Acting for or on behalf of', 'ISLAMIC REVOLUTIONARY GUARD CORPS'], ['SHAHVARPOUR NAJAFABADI, Hassan', 'Acting for or on behalf of', 'ISLAMIC REVOLUTIONARY GUARD CORPS']]\n"
     ]
    }
   ],
   "source": [
    "\n",
    "print(main(xml_filepath))"
   ]
  },
  {
   "cell_type": "markdown",
   "metadata": {},
   "source": [
    "The logic for individual name parts needs to be added to the rest of the parse_entity function. It should probably be made into a function to prevent redundancy "
   ]
  },
  {
   "cell_type": "code",
   "execution_count": null,
   "metadata": {},
   "outputs": [],
   "source": []
  }
 ],
 "metadata": {
  "kernelspec": {
   "display_name": "dsh-venv",
   "language": "python",
   "name": "python3"
  },
  "language_info": {
   "codemirror_mode": {
    "name": "ipython",
    "version": 3
   },
   "file_extension": ".py",
   "mimetype": "text/x-python",
   "name": "python",
   "nbconvert_exporter": "python",
   "pygments_lexer": "ipython3",
   "version": "3.12.4"
  }
 },
 "nbformat": 4,
 "nbformat_minor": 2
}
