{
 "cells": [
  {
   "cell_type": "markdown",
   "metadata": {},
   "source": [
    "# XML Parser \n",
    "\n",
    "Sometimes data comes in XML format, and we want to pull it apart. Let's do that here."
   ]
  },
  {
   "cell_type": "code",
   "execution_count": 28,
   "metadata": {},
   "outputs": [],
   "source": [
    "from bs4 import BeautifulSoup\n",
    "import lxml\n",
    "import os\n",
    "import pandas as pd"
   ]
  },
  {
   "cell_type": "markdown",
   "metadata": {},
   "source": [
    "## Read in Data"
   ]
  },
  {
   "cell_type": "code",
   "execution_count": 3,
   "metadata": {},
   "outputs": [
    {
     "name": "stdout",
     "output_type": "stream",
     "text": [
      "<class 'str'>\n",
      "919037\n"
     ]
    }
   ],
   "source": [
    "xml_data = \"\"\n",
    "xml_filepath = \"consolidated.xml\"\n",
    "\n",
    "with open(xml_filepath, \"r\") as file:\n",
    "    xml_data = file.read()\n",
    "    \n",
    "print(type(xml_data))\n",
    "print(len(xml_data))"
   ]
  },
  {
   "cell_type": "markdown",
   "metadata": {},
   "source": [
    "## Parse with BS4\n",
    "In the future we may be able to automatically recognize the structure of the xml file and fill out distinct tables, but for now we can manually look through and determine the element type that we want to extract. \n",
    "\n",
    "- ROOT: sdnList\n",
    "    - publshInformation\n",
    "    - sdnEntry\n",
    "\n",
    "There are two entity types in this dataset with distinct value types, both included as elements in `sdnEntry`.\n",
    "\n",
    "**Individual**\n",
    "- uid\n",
    "- firstName\n",
    "- lastName\n",
    "- sdnType\n",
    "- programList\n",
    "    - program...\n",
    "- akaList\n",
    "    - aka\n",
    "        - uid\n",
    "        - type\n",
    "        - category\n",
    "        - lastName\n",
    "- dateOfBirthList\n",
    "    - dateOfBirthItem\n",
    "        - uid\n",
    "        - dateOfBirth\n",
    "        - mainEntry\n",
    "- placeOfBirthList\n",
    "    - placeOfBirthItem\n",
    "        - uid\n",
    "        - placeOfBirth\n",
    "        - mainEntry\n",
    "\n",
    "**Entity**\n",
    "- uid\n",
    "- lastName (Organization Name)\n",
    "- sdnType\n",
    "- programList\n",
    "    program...\n",
    "- idList (Registration Numbers)\n",
    "    - uid\n",
    "    - idType\n",
    "    - idNumber   \n",
    "- akaList\n",
    "- addressList\n",
    "\n",
    "We don't necessarily need all this information. We will implement the following mapping to create our output table:\n",
    "\n",
    "| Output Column | Map |\n",
    "|-|-|\n",
    "| uid | uid |\n",
    "|first_name | firstName |\n",
    "| last_name | lastName |\n",
    "|entry_type | sdnType |\n",
    "| aka_uids  | [akaList>aka>uid] |\n",
    "| birth_date | dateOfBirthList>dateOfBirthItem>dateOfBirth\n",
    "| birth_place  | placeOfBirthList>placeOfBirthItem>placeOfBirth\n",
    "| aliases | [akaList>aka>uid] |\n",
    "\n",
    "\n",
    "\n",
    "Complications may arise with `programList` and `akaList`, because they may include multiple subitems. For this reason, we'll deal with them last.  \n",
    "\n",
    "\n"
   ]
  },
  {
   "cell_type": "code",
   "execution_count": 25,
   "metadata": {},
   "outputs": [
    {
     "name": "stdout",
     "output_type": "stream",
     "text": [
      "443\n"
     ]
    }
   ],
   "source": [
    "soup = BeautifulSoup(xml_data, features=\"xml\")\n",
    "\n",
    "entities = soup.select(\"sdnEntry\")\n",
    "print(len(entities))\n",
    "\n",
    "test_element = entities[0]"
   ]
  },
  {
   "cell_type": "markdown",
   "metadata": {},
   "source": [
    "The manual way to do this is then item by item iteration over the entry items, assigning values to a dictionary or something we can transform into a dataframe row."
   ]
  },
  {
   "cell_type": "code",
   "execution_count": 37,
   "metadata": {},
   "outputs": [
    {
     "data": {
      "text/plain": [
       "{'uid': '9639',\n",
       " 'firstName': 'Ismail Abdul Salah',\n",
       " 'lastName': 'HANIYA',\n",
       " 'sdnType': 'Individual'}"
      ]
     },
     "execution_count": 37,
     "metadata": {},
     "output_type": "execute_result"
    }
   ],
   "source": [
    "key_dict = {\n",
    "    \"uid\": \"\",\n",
    "    \"firstName\": \"\",\n",
    "    \"lastName\": \"\",\n",
    "    \"sdnType\": \"\"\n",
    "}\n",
    "\n",
    "def parse_element(element, key_dict):\n",
    "\n",
    "    parse_dict = {}\n",
    "\n",
    "    for value in key_dict.keys():\n",
    "        try:\n",
    "            parse_dict[value] = element.select(value)[0].text\n",
    "        except:\n",
    "            parse_dict[value] = \"\"\n",
    "    \n",
    "    return parse_dict\n",
    "\n",
    "function_test = parse_element(test_element, key_dict)\n",
    "function_test"
   ]
  },
  {
   "cell_type": "code",
   "execution_count": 60,
   "metadata": {},
   "outputs": [
    {
     "data": {
      "text/html": [
       "<div>\n",
       "<style scoped>\n",
       "    .dataframe tbody tr th:only-of-type {\n",
       "        vertical-align: middle;\n",
       "    }\n",
       "\n",
       "    .dataframe tbody tr th {\n",
       "        vertical-align: top;\n",
       "    }\n",
       "\n",
       "    .dataframe thead th {\n",
       "        text-align: right;\n",
       "    }\n",
       "</style>\n",
       "<table border=\"1\" class=\"dataframe\">\n",
       "  <thead>\n",
       "    <tr style=\"text-align: right;\">\n",
       "      <th></th>\n",
       "      <th>uid</th>\n",
       "      <th>firstName</th>\n",
       "      <th>lastName</th>\n",
       "      <th>sdnType</th>\n",
       "    </tr>\n",
       "  </thead>\n",
       "  <tbody>\n",
       "    <tr>\n",
       "      <th>0</th>\n",
       "      <td>9639</td>\n",
       "      <td>Ismail Abdul Salah</td>\n",
       "      <td>HANIYA</td>\n",
       "      <td>Individual</td>\n",
       "    </tr>\n",
       "    <tr>\n",
       "      <th>1</th>\n",
       "      <td>9640</td>\n",
       "      <td>Mohammed</td>\n",
       "      <td>ABU TEIR</td>\n",
       "      <td>Individual</td>\n",
       "    </tr>\n",
       "    <tr>\n",
       "      <th>2</th>\n",
       "      <td>9641</td>\n",
       "      <td>Jamileh Abdullah</td>\n",
       "      <td>AL-SHANTI</td>\n",
       "      <td>Individual</td>\n",
       "    </tr>\n",
       "    <tr>\n",
       "      <th>3</th>\n",
       "      <td>9642</td>\n",
       "      <td>Mohammed Jamal</td>\n",
       "      <td>NU'MAN ALAEDDIN</td>\n",
       "      <td>Individual</td>\n",
       "    </tr>\n",
       "    <tr>\n",
       "      <th>4</th>\n",
       "      <td>9643</td>\n",
       "      <td>Yasser Daoud</td>\n",
       "      <td>MANSOUR</td>\n",
       "      <td>Individual</td>\n",
       "    </tr>\n",
       "  </tbody>\n",
       "</table>\n",
       "</div>"
      ],
      "text/plain": [
       "    uid           firstName         lastName     sdnType\n",
       "0  9639  Ismail Abdul Salah           HANIYA  Individual\n",
       "1  9640            Mohammed         ABU TEIR  Individual\n",
       "2  9641    Jamileh Abdullah        AL-SHANTI  Individual\n",
       "3  9642      Mohammed Jamal  NU'MAN ALAEDDIN  Individual\n",
       "4  9643        Yasser Daoud          MANSOUR  Individual"
      ]
     },
     "execution_count": 60,
     "metadata": {},
     "output_type": "execute_result"
    }
   ],
   "source": [
    "entity_data = []\n",
    "\n",
    "for entity in entities:\n",
    "    data = parse_element(entity, key_dict)\n",
    "    entity_data.append(data)\n",
    "\n",
    "entity_df = pd.DataFrame(entity_data)\n",
    "entity_df.head()"
   ]
  },
  {
   "cell_type": "markdown",
   "metadata": {},
   "source": [
    "Now, let's look at the values that may have more than one value. Once we understand the relative numbers of subelements we might find in each list-type value, we can decide how to proceed. For now, we'll just find the counts of each value."
   ]
  },
  {
   "cell_type": "code",
   "execution_count": 40,
   "metadata": {},
   "outputs": [
    {
     "data": {
      "text/plain": [
       "{'program': 1, 'aka': 2, 'dateOfBirthItem': 1, 'placeOfBirthItem': 1}"
      ]
     },
     "execution_count": 40,
     "metadata": {},
     "output_type": "execute_result"
    }
   ],
   "source": [
    "list_dict = {\n",
    "    \"program\": \"\",\n",
    "    \"aka\": \"\",\n",
    "    \"dateOfBirthItem\": \"\",\n",
    "    \"placeOfBirthItem\": \"\"\n",
    "}\n",
    "\n",
    "def parse_ele_lists(element, list_dict):\n",
    "    \n",
    "    parse_list_dict = {}\n",
    "    \n",
    "    for value in list_dict.keys():\n",
    "        parse_list_dict[value] = len(element.select(value))\n",
    "    \n",
    "    return parse_list_dict\n",
    "\n",
    "    \n",
    "function_test = parse_ele_lists(test_element, list_dict)\n",
    "function_test\n"
   ]
  },
  {
   "cell_type": "code",
   "execution_count": 55,
   "metadata": {},
   "outputs": [
    {
     "data": {
      "text/html": [
       "<div>\n",
       "<style scoped>\n",
       "    .dataframe tbody tr th:only-of-type {\n",
       "        vertical-align: middle;\n",
       "    }\n",
       "\n",
       "    .dataframe tbody tr th {\n",
       "        vertical-align: top;\n",
       "    }\n",
       "\n",
       "    .dataframe thead th {\n",
       "        text-align: right;\n",
       "    }\n",
       "</style>\n",
       "<table border=\"1\" class=\"dataframe\">\n",
       "  <thead>\n",
       "    <tr style=\"text-align: right;\">\n",
       "      <th></th>\n",
       "      <th>program</th>\n",
       "      <th>aka</th>\n",
       "      <th>dateOfBirthItem</th>\n",
       "      <th>placeOfBirthItem</th>\n",
       "    </tr>\n",
       "  </thead>\n",
       "  <tbody>\n",
       "    <tr>\n",
       "      <th>count</th>\n",
       "      <td>443.000000</td>\n",
       "      <td>443.000000</td>\n",
       "      <td>443.000000</td>\n",
       "      <td>443.000000</td>\n",
       "    </tr>\n",
       "    <tr>\n",
       "      <th>mean</th>\n",
       "      <td>1.155756</td>\n",
       "      <td>2.541761</td>\n",
       "      <td>0.167043</td>\n",
       "      <td>0.045147</td>\n",
       "    </tr>\n",
       "    <tr>\n",
       "      <th>std</th>\n",
       "      <td>0.381272</td>\n",
       "      <td>2.015762</td>\n",
       "      <td>0.373436</td>\n",
       "      <td>0.207861</td>\n",
       "    </tr>\n",
       "    <tr>\n",
       "      <th>min</th>\n",
       "      <td>1.000000</td>\n",
       "      <td>0.000000</td>\n",
       "      <td>0.000000</td>\n",
       "      <td>0.000000</td>\n",
       "    </tr>\n",
       "    <tr>\n",
       "      <th>25%</th>\n",
       "      <td>1.000000</td>\n",
       "      <td>1.000000</td>\n",
       "      <td>0.000000</td>\n",
       "      <td>0.000000</td>\n",
       "    </tr>\n",
       "    <tr>\n",
       "      <th>50%</th>\n",
       "      <td>1.000000</td>\n",
       "      <td>2.000000</td>\n",
       "      <td>0.000000</td>\n",
       "      <td>0.000000</td>\n",
       "    </tr>\n",
       "    <tr>\n",
       "      <th>75%</th>\n",
       "      <td>1.000000</td>\n",
       "      <td>3.000000</td>\n",
       "      <td>0.000000</td>\n",
       "      <td>0.000000</td>\n",
       "    </tr>\n",
       "    <tr>\n",
       "      <th>max</th>\n",
       "      <td>4.000000</td>\n",
       "      <td>26.000000</td>\n",
       "      <td>1.000000</td>\n",
       "      <td>1.000000</td>\n",
       "    </tr>\n",
       "  </tbody>\n",
       "</table>\n",
       "</div>"
      ],
      "text/plain": [
       "          program         aka  dateOfBirthItem  placeOfBirthItem\n",
       "count  443.000000  443.000000       443.000000        443.000000\n",
       "mean     1.155756    2.541761         0.167043          0.045147\n",
       "std      0.381272    2.015762         0.373436          0.207861\n",
       "min      1.000000    0.000000         0.000000          0.000000\n",
       "25%      1.000000    1.000000         0.000000          0.000000\n",
       "50%      1.000000    2.000000         0.000000          0.000000\n",
       "75%      1.000000    3.000000         0.000000          0.000000\n",
       "max      4.000000   26.000000         1.000000          1.000000"
      ]
     },
     "execution_count": 55,
     "metadata": {},
     "output_type": "execute_result"
    }
   ],
   "source": [
    "counts_data = []\n",
    "\n",
    "for entity in entities:\n",
    "    data = parse_ele_lists(entity, list_dict)\n",
    "    counts_data.append(data)\n",
    "    \n",
    "counts_df = pd.DataFrame(counts_data)\n",
    "counts_df.describe()"
   ]
  },
  {
   "cell_type": "markdown",
   "metadata": {},
   "source": [
    "From above, we can see that `dateOfBirthItem` and `placeOfBirthItem` only show up once per entity. `program` has a maximum of 4 occurances, while `aka` has a maximum of 26. \n",
    "\n",
    "To display these values, we will add additional columns for each `program` and `aka`, to a maximum of 5 additional values (for now). "
   ]
  },
  {
   "cell_type": "code",
   "execution_count": null,
   "metadata": {},
   "outputs": [],
   "source": [
    "def parse_ele_lists_2(element, list_dict):\n",
    "    \n",
    "    parse_list_dict = {}\n",
    "    \n",
    "    # For exploration purposes, just return counts\n",
    "    for value in list_dict.keys():\n",
    "        \n",
    "        if len(element.select(value)) == 1:\n",
    "            \n",
    "            item_keys = \n",
    "            \n",
    "            \n",
    "            \n",
    "        else:\n",
    "   \n",
    "                parse_list_dict[value] = len(element.select(value))\n",
    "    \n",
    "    return parse_list_dict\n",
    "\n",
    "test = parse_ele_lists_2(test_element, list_dict)\n",
    "test"
   ]
  },
  {
   "cell_type": "markdown",
   "metadata": {},
   "source": [
    "## Save Results"
   ]
  },
  {
   "cell_type": "code",
   "execution_count": null,
   "metadata": {},
   "outputs": [],
   "source": [
    "entity_df.to_csv(\"entity_data.csv\")"
   ]
  },
  {
   "cell_type": "markdown",
   "metadata": {},
   "source": [
    "## Code Scraps "
   ]
  },
  {
   "cell_type": "code",
   "execution_count": 57,
   "metadata": {},
   "outputs": [],
   "source": [
    "unique_elements = {tag.name for tag in soup.descendants if tag.name}\n",
    "\n"
   ]
  },
  {
   "cell_type": "code",
   "execution_count": null,
   "metadata": {},
   "outputs": [],
   "source": []
  }
 ],
 "metadata": {
  "kernelspec": {
   "display_name": "dsh-venv",
   "language": "python",
   "name": "dsh-venv"
  },
  "language_info": {
   "codemirror_mode": {
    "name": "ipython",
    "version": 3
   },
   "file_extension": ".py",
   "mimetype": "text/x-python",
   "name": "python",
   "nbconvert_exporter": "python",
   "pygments_lexer": "ipython3",
   "version": "3.12.2"
  }
 },
 "nbformat": 4,
 "nbformat_minor": 2
}
