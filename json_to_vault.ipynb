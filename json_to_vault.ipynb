{
 "cells": [
  {
   "cell_type": "code",
   "execution_count": 4,
   "metadata": {},
   "outputs": [],
   "source": [
    "import json\n",
    "\n",
    "json_file = \"output.json\"\n",
    "\n",
    "with open(json_file, \"r\") as file:\n",
    "    json_f = file.read()\n",
    "    \n",
    "# data = json.load(json_f)"
   ]
  },
  {
   "cell_type": "code",
   "execution_count": 6,
   "metadata": {},
   "outputs": [],
   "source": [
    "data = json.loads(json_f)"
   ]
  },
  {
   "cell_type": "code",
   "execution_count": 36,
   "metadata": {},
   "outputs": [
    {
     "name": "stdout",
     "output_type": "stream",
     "text": [
      "443\n"
     ]
    }
   ],
   "source": [
    "import pprint as pp\n",
    "# pp.pprint(data['sdnList']['sdnEntry'])\n",
    "\n",
    "entity_data = data['sdnList']['sdnEntry']\n",
    "print(len(entity_data))"
   ]
  },
  {
   "cell_type": "code",
   "execution_count": 37,
   "metadata": {},
   "outputs": [
    {
     "data": {
      "text/plain": [
       "{'uid': '9639',\n",
       " 'firstName': 'Ismail Abdul Salah',\n",
       " 'lastName': 'HANIYA',\n",
       " 'sdnType': 'Individual',\n",
       " 'programList': {'program': 'NS-PLC'},\n",
       " 'akaList': {'aka': [{'uid': '9150',\n",
       "    'type': 'a.k.a.',\n",
       "    'category': 'strong',\n",
       "    'lastName': 'HANIYA',\n",
       "    'firstName': 'Ismail'},\n",
       "   {'uid': '9151',\n",
       "    'type': 'a.k.a.',\n",
       "    'category': 'strong',\n",
       "    'lastName': 'HANIYYA',\n",
       "    'firstName': 'Ismaeel'}]},\n",
       " 'dateOfBirthList': {'dateOfBirthItem': {'uid': '4696',\n",
       "   'dateOfBirth': '1962',\n",
       "   'mainEntry': 'true'}},\n",
       " 'placeOfBirthList': {'placeOfBirthItem': {'uid': '4697',\n",
       "   'placeOfBirth': 'Shati',\n",
       "   'mainEntry': 'true'}}}"
      ]
     },
     "execution_count": 37,
     "metadata": {},
     "output_type": "execute_result"
    }
   ],
   "source": [
    "test_entity = entity_data[0]\n",
    "test_entity"
   ]
  },
  {
   "cell_type": "code",
   "execution_count": 53,
   "metadata": {},
   "outputs": [],
   "source": [
    "import os\n",
    "\n",
    "def parse_individual(entity):\n",
    "    \n",
    "    \"\"\"\n",
    "    Given an XML line of sanction data for an individual,\n",
    "    extracts useful information and populates a template \n",
    "    with YAML formated properties.\n",
    "    \n",
    "    Returns X and Y, where X is the file name and Y is the \n",
    "    populated template\n",
    "    \"\"\"\n",
    "\n",
    "    ## Combine first and last names to make a file name\n",
    "    if entity[\"firstName\"]:\n",
    "        file_name = f\"{entity[\"lastName\"]}, {entity[\"firstName\"]}\"\n",
    "    else:\n",
    "        file_name = f\"{entity[\"lastName\"]}\"\n",
    "        \n",
    "    ## Create Program List\n",
    "    ###### Lets see if this is actually an issue. Will only need to address if there are listing with more than one program.\n",
    "    # program_list = []\n",
    "    \n",
    "    # for key in entity[\"programList\"].keys():\n",
    "    #     program_list.append(entity[\"programkey)\n",
    "    \n",
    "    program = entity[\"programList\"][\"program\"]\n",
    "    date_of_birth = entity[\"dateOfBirthList\"][\"dateOfBirthItem\"][\"dateOfBirth\"]\n",
    "    place_of_birth = entity[\"placeOfBirthList\"][\"placeOfBirthItem\"][\"placeOfBirth\"]\n",
    "    \n",
    "    ## Create dictionary of entity  values \n",
    "    indv_dict = {\n",
    "        \"filename\": file_name,\n",
    "        \"program\": program,\n",
    "        \"date_of_birth\": date_of_birth,\n",
    "        \"place_of_birth\": place_of_birth,\n",
    "        \"akas\": entity[\"akaList\"]['aka']\n",
    "    }\n",
    "    \n",
    "    indv_note_template = f\"\"\"\n",
    "    ---\n",
    "    Entity Type: Individual\n",
    "    Sanctions Program: {indv_dict[\"program\"]}\n",
    "    \n",
    "    ---\n",
    "    \"\"\"\n",
    "\n",
    "    \n",
    "\n",
    "    return indv_dict[\"filename\"], indv_note_template"
   ]
  },
  {
   "cell_type": "code",
   "execution_count": 56,
   "metadata": {},
   "outputs": [
    {
     "data": {
      "text/plain": [
       "{'filename': 'HANIYA, Ismail Abdul Salah',\n",
       " 'program': 'NS-PLC',\n",
       " 'date_of_birth': '1962',\n",
       " 'place_of_birth': 'Shati',\n",
       " 'akas': [{'uid': '9150',\n",
       "   'type': 'a.k.a.',\n",
       "   'category': 'strong',\n",
       "   'lastName': 'HANIYA',\n",
       "   'firstName': 'Ismail'},\n",
       "  {'uid': '9151',\n",
       "   'type': 'a.k.a.',\n",
       "   'category': 'strong',\n",
       "   'lastName': 'HANIYYA',\n",
       "   'firstName': 'Ismaeel'}]}"
      ]
     },
     "execution_count": 56,
     "metadata": {},
     "output_type": "execute_result"
    }
   ],
   "source": [
    "parsed_test = parse_individual(test_entity)\n",
    "parsed_test"
   ]
  },
  {
   "cell_type": "code",
   "execution_count": 55,
   "metadata": {},
   "outputs": [
    {
     "data": {
      "text/plain": [
       "{'filename': 'HANIYA, Ismail Abdul Salah',\n",
       " 'program': 'NS-PLC',\n",
       " 'date_of_birth': '1962',\n",
       " 'place_of_birth': 'Shati',\n",
       " 'akas': [{'uid': '9150',\n",
       "   'type': 'a.k.a.',\n",
       "   'category': 'strong',\n",
       "   'lastName': 'HANIYA',\n",
       "   'firstName': 'Ismail'},\n",
       "  {'uid': '9151',\n",
       "   'type': 'a.k.a.',\n",
       "   'category': 'strong',\n",
       "   'lastName': 'HANIYYA',\n",
       "   'firstName': 'Ismaeel'}]}"
      ]
     },
     "execution_count": 55,
     "metadata": {},
     "output_type": "execute_result"
    }
   ],
   "source": [
    "entity_dict_list = []\n",
    "\n",
    "destination_folder = \"Vault\"\n",
    "\n",
    "for entity in entity_data:\n",
    "    if not os.path.exists('destination_folder'):\n",
    "        os.makedirs('destination_folder')\n",
    "    \n",
    "    if entity[\"\"]\n",
    "          with open(f'yaml_files/{parent_key}.txt', 'w') as f:\n",
    "            f.write(yaml_content)\n",
    "    if entity[\"sdnType\"]"
   ]
  },
  {
   "cell_type": "code",
   "execution_count": null,
   "metadata": {},
   "outputs": [],
   "source": []
  }
 ],
 "metadata": {
  "kernelspec": {
   "display_name": "dsh-venv",
   "language": "python",
   "name": "dsh-venv"
  },
  "language_info": {
   "codemirror_mode": {
    "name": "ipython",
    "version": 3
   },
   "file_extension": ".py",
   "mimetype": "text/x-python",
   "name": "python",
   "nbconvert_exporter": "python",
   "pygments_lexer": "ipython3",
   "version": "3.12.2"
  }
 },
 "nbformat": 4,
 "nbformat_minor": 2
}
