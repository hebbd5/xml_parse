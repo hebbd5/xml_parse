{
 "cells": [
  {
   "cell_type": "markdown",
   "metadata": {},
   "source": [
    "# Sanctions Data Individuals Parser\n",
    "\n",
    "Does not work for the consolidated sanctions data"
   ]
  },
  {
   "cell_type": "code",
   "execution_count": 4,
   "metadata": {},
   "outputs": [],
   "source": [
    "import json\n",
    "\n",
    "json_file = \"output.json\"\n",
    "\n",
    "with open(json_file, \"r\") as file:\n",
    "    json_f = file.read()\n",
    "    \n",
    "data = json.loads(json_f)"
   ]
  },
  {
   "cell_type": "code",
   "execution_count": 57,
   "metadata": {},
   "outputs": [
    {
     "name": "stdout",
     "output_type": "stream",
     "text": [
      "443\n",
      "<class 'list'>\n"
     ]
    }
   ],
   "source": [
    "import pprint as pp\n",
    "# pp.pprint(data['sdnList']['sdnEntry'])\n",
    "\n",
    "entity_data = data['sdnList']['sdnEntry']\n",
    "print(len(entity_data))\n",
    "print(type(entity_data))"
   ]
  },
  {
   "cell_type": "code",
   "execution_count": 106,
   "metadata": {},
   "outputs": [
    {
     "data": {
      "text/plain": [
       "{'uid': '9642',\n",
       " 'firstName': 'Mohammed Jamal',\n",
       " 'lastName': \"NU'MAN ALAEDDIN\",\n",
       " 'sdnType': 'Individual',\n",
       " 'programList': {'program': 'NS-PLC'},\n",
       " 'akaList': {'aka': [{'uid': '9156',\n",
       "    'type': 'a.k.a.',\n",
       "    'category': 'strong',\n",
       "    'lastName': 'ALA AL DIN',\n",
       "    'firstName': 'Mohamad Nouman'},\n",
       "   {'uid': '9157',\n",
       "    'type': 'a.k.a.',\n",
       "    'category': 'strong',\n",
       "    'lastName': 'AL NATSHEH',\n",
       "    'firstName': 'Mohammed'}]},\n",
       " 'addressList': {'address': {'uid': '12129',\n",
       "   'city': 'Hebron',\n",
       "   'stateOrProvince': 'West Bank',\n",
       "   'country': 'Palestinian'}},\n",
       " 'dateOfBirthList': {'dateOfBirthItem': {'uid': '4702',\n",
       "   'dateOfBirth': '1959',\n",
       "   'mainEntry': 'true'}}}"
      ]
     },
     "execution_count": 106,
     "metadata": {},
     "output_type": "execute_result"
    }
   ],
   "source": [
    "test_entity = entity_data[3]\n",
    "test_entity"
   ]
  },
  {
   "cell_type": "markdown",
   "metadata": {},
   "source": [
    "## Individual Extraction"
   ]
  },
  {
   "cell_type": "code",
   "execution_count": 312,
   "metadata": {},
   "outputs": [],
   "source": [
    "\n",
    "import os\n",
    "\n",
    "def parse_individual(entity):\n",
    "    \n",
    "    \"\"\"\n",
    "    Given an XML line of sanction data for an individual,\n",
    "    extracts useful information and populates a template \n",
    "    with YAML formated properties.\n",
    "    \n",
    "    Returns X and Y, where X is the file name and Y is the \n",
    "    populated template\n",
    "    \"\"\"\n",
    "\n",
    "    ## Combine first and last names to make a file name\n",
    "    if \"firstName\" in entity.keys():\n",
    "        \n",
    "        if \"lastName\" in entity.keys():\n",
    "            file_name = f\"{entity[\"lastName\"]}, {entity[\"firstName\"]}\"\n",
    "    \n",
    "        else:\n",
    "            file_name = f\"{entity[\"firstName\"]}\"\n",
    "    \n",
    "    \n",
    "    elif \"lastName\" in entity.keys():\n",
    "        file_name = f\"{entity[\"lastName\"]}\"\n",
    "        \n",
    "    else:\n",
    "        file_name = \"wtf mate\"\n",
    "        \n",
    "    ## Create Program List\n",
    "    ###### Lets see if this is actually an issue. Will only need to address if there are listing with more than one program.\n",
    "    # program_list = []\n",
    "    \n",
    "    # for key in entity[\"programList\"].keys():\n",
    "    #     program_list.append(entity[\"programkey)\n",
    "    \n",
    "    program = entity[\"programList\"][\"program\"]\n",
    "    \n",
    "    ## Date of Birth\n",
    "    if \"dateOfBirthList\" in entity.keys():\n",
    "        date_of_birth = entity[\"dateOfBirthList\"][\"dateOfBirthItem\"][\"dateOfBirth\"]\n",
    "    else:\n",
    "        date_of_birth = \"\"\n",
    "    \n",
    "    ## Place of Birth\n",
    "    if \"placeOfBirthList\" in entity.keys():\n",
    "        place_of_birth = entity[\"placeOfBirthList\"][\"placeOfBirthItem\"][\"placeOfBirth\"]\n",
    "    else:\n",
    "        place_of_birth = \"\"\n",
    "    \n",
    "    \n",
    "    indv_note_template = f\"\"\"---\n",
    "Entity Type: Individual\n",
    "Sanctions Program: [[{program}]]\n",
    "Place of Birth: {place_of_birth}\n",
    "Date of Birth: {date_of_birth}\n",
    "---\n",
    "\n",
    "\"\"\"\n",
    "    aka_header = \"\"\"\n",
    "## AKAs\n",
    "| Type | Category | Last Name | First Name |\n",
    "|------|----------|-----------|------------|\n",
    "\"\"\"\n",
    "\n",
    "    address_header = \"\"\"\n",
    "## Addresses\n",
    "| City | State or Province | Country | \n",
    "|------|-------------------|---------|\n",
    "\"\"\"\n",
    "\n",
    "    if \"akaList\" in entity.keys():\n",
    "        \n",
    "        # Note that the value of akaList may be a list of dictionaries or a single dictionary\n",
    "        \n",
    "        if type(entity[\"akaList\"][\"aka\"]) == list:\n",
    "            \n",
    "            for aka in entity[\"akaList\"][\"aka\"]:\n",
    "            \n",
    "                if \"firstName\" in aka.keys():\n",
    "                    aka_first_name = aka[\"firstName\"]\n",
    "                else:\n",
    "                    aka_first_name = \"\"\n",
    "                \n",
    "                aka_line = [\"|\", aka[\"type\"] , \"|\", aka[\"category\"], \"|\", aka[\"lastName\"], \"|\", aka_first_name, \"|\\n\"]\n",
    "                aka_header += \" \".join(aka_line)\n",
    "                \n",
    "        elif type(entity[\"akaList\"][\"aka\"]) == dict:\n",
    "            aka = entity[\"akaList\"][\"aka\"] \n",
    "            \n",
    "            if \"firstName\" in aka.keys():\n",
    "                aka_first_name = aka[\"firstName\"]\n",
    "            else:\n",
    "                aka_first_name = \"\"\n",
    "                    \n",
    "            aka_line = [\"|\", aka[\"type\"], \"|\", aka[\"category\"], \"|\", aka[\"lastName\"], \"|\", aka[\"firstName\"], \"|\\n\"]\n",
    "            aka_header += \" \".join(aka_line)\n",
    "        \n",
    "        indv_note_template += aka_header\n",
    "        indv_note_template += \"\\n\"\n",
    "            \n",
    "        \n",
    "    if \"addressList\" in entity.keys():\n",
    "       \n",
    "       # Note that the value of akaList may be a list of dictionaries or a single dictionary\n",
    "\n",
    "        if type(entity[\"addressList\"][\"address\"]) == list:\n",
    "            \n",
    "\n",
    "            for address in entity[\"addressList\"][\"address\"]:\n",
    "            \n",
    "            \n",
    "                if \"city\" in address.keys():\n",
    "                    address_city = address[\"city\"]\n",
    "                else:\n",
    "                    address_city = \"\"\n",
    "                    \n",
    "                if \"stateOrProvince\" in address.keys():\n",
    "                    address_stateprov = address[\"stateOrProvince\"]\n",
    "                else:\n",
    "                    address_stateprov = \"\"\n",
    "                    \n",
    "                if \"country\" in address.keys():\n",
    "                    address_country = address[\"country\"]\n",
    "                else:\n",
    "                    address_country = \"\"\n",
    "                \n",
    "                \n",
    "                address_line = [\"|\", address_city, \"|\", address_stateprov, \"|\", address_country, \"|\\n\"]\n",
    "                address_header += \" \".join(address_line)\n",
    "                \n",
    "                \n",
    "                \n",
    "        elif type(entity[\"addressList\"][\"address\"]) == dict:\n",
    "            \n",
    "            \n",
    "            address = entity[\"addressList\"][\"address\"] \n",
    "            \n",
    "            \n",
    "            if \"city\" in address.keys():\n",
    "                address_city = address[\"city\"]\n",
    "            else:\n",
    "                address_city = \"\"\n",
    "                \n",
    "            if \"stateOrProvince\" in address.keys():\n",
    "                address_stateprov = address[\"stateOrProvince\"]\n",
    "            else:\n",
    "                address_stateprov = \"\"\n",
    "                \n",
    "            if \"country\" in address.keys():\n",
    "                address_country = address[\"country\"]\n",
    "            else:\n",
    "                    address_country = \"\"\n",
    "                \n",
    "                    \n",
    "            address_line = [\"|\", address_city, \"|\", address_stateprov, \"|\", address_country, \"|\\n\"]\n",
    "            address_header += \" \".join(address_line)\n",
    "\n",
    "    \n",
    "        indv_note_template += \"\\n\"\n",
    "        indv_note_template += address_header\n",
    "        \n",
    "    return file_name, indv_note_template"
   ]
  },
  {
   "cell_type": "markdown",
   "metadata": {},
   "source": [
    "## Entity Extraction"
   ]
  },
  {
   "cell_type": "code",
   "execution_count": 313,
   "metadata": {},
   "outputs": [],
   "source": []
  },
  {
   "cell_type": "markdown",
   "metadata": {},
   "source": [
    "## Execution"
   ]
  },
  {
   "cell_type": "code",
   "execution_count": 314,
   "metadata": {},
   "outputs": [],
   "source": [
    "entity_dict_list = []\n",
    "import os\n",
    "destination_folder = \"Vault\"\n",
    "\n",
    "# if not os.path.exists(destination_folder):\n",
    "#     os.makedirs(destination_folder)  \n",
    "\n",
    "def entity_file_conversion(entity, destination_folder):\n",
    "    \n",
    "    \"\"\"\n",
    "    Given a list of entity data, iterate over to create a file for each entity. \n",
    "    First, check if intended destination folder exists and confirms if not. \n",
    "    \"\"\"\n",
    "    \n",
    "    # print(entity[\"sdnType\"])        \n",
    "    \n",
    "    if entity[\"sdnType\"] == \"Individual\":\n",
    "        file_name, file_content = parse_individual(entity)\n",
    "        \n",
    "\n",
    "\n",
    "    elif entity[\"sdnType\"] == \"Entity\":\n",
    "        file_name, file_content = parse_entity(entity)\n",
    "\n",
    "    with open(f'{destination_folder}/{file_name}.md', 'w') as f:\n",
    "        f.write(file_content)    \n",
    "    \n",
    "\n",
    "                \n",
    "        # if entity[\"sdnType\"]"
   ]
  },
  {
   "cell_type": "code",
   "execution_count": 315,
   "metadata": {},
   "outputs": [],
   "source": [
    "for entity in entity_data:\n",
    "    entity_file_conversion(entity, destination_folder)"
   ]
  },
  {
   "cell_type": "code",
   "execution_count": 293,
   "metadata": {},
   "outputs": [
    {
     "data": {
      "text/plain": [
       "{'uid': '9642',\n",
       " 'firstName': 'Mohammed Jamal',\n",
       " 'lastName': \"NU'MAN ALAEDDIN\",\n",
       " 'sdnType': 'Individual',\n",
       " 'programList': {'program': 'NS-PLC'},\n",
       " 'akaList': {'aka': [{'uid': '9156',\n",
       "    'type': 'a.k.a.',\n",
       "    'category': 'strong',\n",
       "    'lastName': 'ALA AL DIN',\n",
       "    'firstName': 'Mohamad Nouman'},\n",
       "   {'uid': '9157',\n",
       "    'type': 'a.k.a.',\n",
       "    'category': 'strong',\n",
       "    'lastName': 'AL NATSHEH',\n",
       "    'firstName': 'Mohammed'}]},\n",
       " 'addressList': {'address': {'uid': '12129',\n",
       "   'city': 'Hebron',\n",
       "   'stateOrProvince': 'West Bank',\n",
       "   'country': 'Palestinian'}},\n",
       " 'dateOfBirthList': {'dateOfBirthItem': {'uid': '4702',\n",
       "   'dateOfBirth': '1959',\n",
       "   'mainEntry': 'true'}}}"
      ]
     },
     "execution_count": 293,
     "metadata": {},
     "output_type": "execute_result"
    }
   ],
   "source": [
    "entity_data[3]"
   ]
  },
  {
   "cell_type": "code",
   "execution_count": null,
   "metadata": {},
   "outputs": [],
   "source": []
  }
 ],
 "metadata": {
  "kernelspec": {
   "display_name": "dsh-venv",
   "language": "python",
   "name": "dsh-venv"
  },
  "language_info": {
   "codemirror_mode": {
    "name": "ipython",
    "version": 3
   },
   "file_extension": ".py",
   "mimetype": "text/x-python",
   "name": "python",
   "nbconvert_exporter": "python",
   "pygments_lexer": "ipython3",
   "version": "3.12.2"
  }
 },
 "nbformat": 4,
 "nbformat_minor": 2
}
