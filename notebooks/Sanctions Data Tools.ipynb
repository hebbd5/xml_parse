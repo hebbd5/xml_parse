{
 "cells": [
  {
   "cell_type": "markdown",
   "metadata": {},
   "source": [
    "## Sanctions Data Tools\n",
    "\n",
    "A collection of useful code snippets for working with [sanctions data](https://sanctionslist.ofac.treas.gov/Home/CustomizeSanctionsDataset#) from the [United States Office of Foreign Assets Control](https://ofac.treasury.gov/). \n",
    "\n",
    "- Load XML Sanctions Data as JSON\n"
   ]
  },
  {
   "cell_type": "markdown",
   "metadata": {},
   "source": [
    "## Load XML Sanctions Data as JSON"
   ]
  },
  {
   "cell_type": "code",
   "execution_count": 1,
   "metadata": {},
   "outputs": [],
   "source": [
    "xml_filepath = \"Datasets/IRGC_sanctions.xml\""
   ]
  },
  {
   "cell_type": "code",
   "execution_count": null,
   "metadata": {},
   "outputs": [],
   "source": [
    "from bs4 import BeautifulSoup\n",
    "\n",
    "def xml_to_json(element):\n",
    "    \n",
    "    \"\"\"\n",
    "    Recursively parses XML soup, returning as JSON format \n",
    "    \"\"\"\n",
    "    \n",
    "    if isinstance(element, str):\n",
    "        return element\n",
    "    \n",
    "    if not element.contents:\n",
    "        return element.string\n",
    "    \n",
    "    result = {}\n",
    "    \n",
    "    for child in element.children:\n",
    "        \n",
    "        if isinstance(child, str):\n",
    "            continue\n",
    "        \n",
    "        if child.name not in result:\n",
    "            result[child.name] = xml_to_json(child)\n",
    "            \n",
    "        else:\n",
    "            if not isinstance(result[child.name], list):\n",
    "                result[child.name] = [result[child.name]]\n",
    "            result[child.name].append(xml_to_json(child))\n",
    "            \n",
    "    ### Directly capture text nodes without 'text' key\n",
    "    if element.string and element.string.strip():\n",
    "        return element.string.strip()\n",
    "    \n",
    "    return result\n",
    "\n",
    "\n",
    "with open(xml_filepath, \"r\") as file:\n",
    "    xml_data = file.read()\n",
    "\n",
    "## Convert XML to JSON, isolate entity data \n",
    "soup = BeautifulSoup(xml_data, features='xml')\n",
    "\n",
    "entity_json = xml_to_json(soup)\n",
    "entity_data = entity_json['sanctionsData'][\"entities\"][\"entity\"]\n",
    "entity_data = [entity for entity in entity_data if entity[\"generalInfo\"][\"entityType\"] in [\"Individual\", \"Entity\"]]\n",
    "print(f\"Entities found: {len(entity_data)}\")"
   ]
  },
  {
   "cell_type": "markdown",
   "metadata": {},
   "source": [
    "## Testing Function"
   ]
  },
  {
   "cell_type": "code",
   "execution_count": null,
   "metadata": {},
   "outputs": [],
   "source": [
    "def function_test(input_data, test_function):\n",
    "\n",
    "    counter = 0\n",
    "    fail_indexes = []\n",
    "\n",
    "    rel_list = []\n",
    "\n",
    "    for entity in entity_data:\n",
    "        counter += 1\n",
    "        \n",
    "        try:\n",
    "            rel_list.append((test_function(entity)))\n",
    "            \n",
    "        except:\n",
    "            fail_indexes.append(counter)\n",
    "\n",
    "    print(f\"Attempts: {counter}\")\n",
    "    print(f\"Failed: {len(fail_indexes)}\")\n",
    "    print(f\"Succeeded: {counter - len(fail_indexes)}\")\n",
    "    print(f\"Failed on: {fail_indexes}\")\n",
    "\n",
    "\n"
   ]
  }
 ],
 "metadata": {
  "kernelspec": {
   "display_name": "dsh-venv",
   "language": "python",
   "name": "dsh-venv"
  },
  "language_info": {
   "codemirror_mode": {
    "name": "ipython",
    "version": 3
   },
   "file_extension": ".py",
   "mimetype": "text/x-python",
   "name": "python",
   "nbconvert_exporter": "python",
   "pygments_lexer": "ipython3",
   "version": "3.12.2"
  }
 },
 "nbformat": 4,
 "nbformat_minor": 2
}
