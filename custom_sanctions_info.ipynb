{
 "cells": [
  {
   "cell_type": "markdown",
   "metadata": {},
   "source": [
    "# Customized Sanctions Dataset\n",
    "\n",
    "From: https://sanctionslist.ofac.treas.gov/Home/CustomizeSanctionsDataset#"
   ]
  },
  {
   "cell_type": "markdown",
   "metadata": {},
   "source": [
    "## Sanctions Programs Overview\n",
    "\n",
    "[Explanations](https://ofac.treasury.gov/specially-designated-nationals-list-sdn-list/program-tag-definitions-for-ofac-sanctions-lists)\n",
    "\n",
    "### Russia\n",
    "\n",
    "| Name | Description |\n",
    "|------|-------------|\n",
    "| Ukraine-{} | Sanctions against Russia in relation to the invasion of Ukraine |\n",
    "| SSIDES | Support for the Sovereignty, Integrity, Democracy, and Economic Stability of Ukraine Act of 2014 |\n",
    "| BPI-Russia-EO14024 | Blocked Pending Investigation, Russian Harmful Foreign Activities Sanctions Regulations, 31 CFR Part 587 |\n",
    "| CAATSA - Russia | Countering America's Adversaries Through Sanctions Act of 2017 (CAATSA) - Title II |\n",
    "| ​ELECTION-EO13848 | Elections interference |\n",
    "| RUSSIA-ER{} | Blocking Property With Respect To Specified Harmful Foreign Activities of the Government of the Russian Federation |\n",
    "\n",
    "\n",
    "### DPRK \n",
    "| Name | Description |\n",
    "|------|-------------|\n",
    "| DPRK | North Korea Sanctions Regulations, 31 C.F.R. part 510; Executive Order 13551 |\n",
    "| DPRK2 | ​Executive Order 13687 |\n",
    "| DPRK3 | Executive Order 13722 |\n",
    "| DPRK4 | Executive Order 13810 |\n",
    "| DPRK-NKSPEA | North Korea Sanctions and Policy Enhancement Act of 2016, Public Law 114-122, as amended by the Countering America’s Adversaries Through Sanctions Act, Public Law 115-44 and National Defense Appropriations Act of 2020, Public Law 116-92​ |\n",
    "\n",
    "\n",
    "### PRC \n",
    "| Name | Description |\n",
    "|------|-------------|\n",
    "| UHRPA | Sanctions re: Uughur genocide |\n",
    "| CMIC - EO13959 | Chinese Military,Executive Order 13959 as amended by Executive Order 14032 |\n",
    "\n",
    "\n",
    "\n",
    "### Iran\n",
    "| Name | Description |\n",
    "|------|-------------|\n",
    "| 561 Related | ​Correspondent Account or Payable-Through Account Sanctions related to 31 C.F.R. part 561 |\n",
    "| CAATSA - Iran | Countering America's Adversaries Through Sanctions Act of 2017 (CAATSA) - Title I |\n",
    "| ​ELECTION-EO13848 | Elections interference |\n",
    "| FSE-IR | Foreign Sanctions Evaders Executive Order 13608 - Iran​ |\n",
    "| IRGC | Iranian Financial Sanctions Regulations, 31 CFR Part 561​ |\n",
    "| HRIT-IR| Blocking the Property and Suspending Entry Into the United States of Certain Persons With Respect to Grave Human Rights Abuses by the Governments of Iran and Syria via Information Technology​ |\n",
    "\n",
    "\n",
    "### Other\n",
    "| Name | Description |\n",
    "|------|-------------|\n",
    "| TCO   | Transnational criminal organizations |\n",
    "| CYBER2 | Executive Order 13694; ​Executive Order 13757 |\n",
    "| HIFPAA | Hizballah International Financing Prevention Amendments Act of 2018, Public Law No: 115-272 |\n",
    "| "
   ]
  },
  {
   "cell_type": "code",
   "execution_count": null,
   "metadata": {},
   "outputs": [],
   "source": []
  },
  {
   "cell_type": "markdown",
   "metadata": {},
   "source": [
    "## Overview\n",
    "```\n",
    "<sanctionsData>\n",
    "    <publicationInfo> \n",
    "    <referenceValues>\n",
    "    <featureTypes>\n",
    "    <entities>\n",
    "```"
   ]
  },
  {
   "cell_type": "markdown",
   "metadata": {},
   "source": [
    "## Entities\n",
    "\n",
    "### Individuals\n",
    "```\n",
    "<entity>\n",
    "    <generalInfo>\n",
    "    <sanctionsLists>\n",
    "    <sanctionsPrograms>\n",
    "    <sanctionsTypes>\n",
    "    <legalAuthorities>\n",
    "    <names>\n",
    "    <addresses>\n",
    "    <features>\n",
    "        type\n",
    "        versionId\n",
    "        value\n",
    "        valueDate\n",
    "            fromDateBegin\n",
    "            fromDateEnd\n",
    "            toDateBegin\n",
    "            toDateEnd\n",
    "            isApproximate\n",
    "            isDateRange\n",
    "        valueRefId\n",
    "        isPrimary\n",
    "    <identityDocuments>\n",
    "    <relationships>\n",
    "```\n",
    "in custom sanctions, search....\n",
    "\n",
    "\n",
    "`IRANIAN ISLAMIC REVOLUTIONARY GUARD CORPS CYBER-ELECTRONIC COMMAND</relatedEntity>`"
   ]
  },
  {
   "cell_type": "markdown",
   "metadata": {},
   "source": []
  }
 ],
 "metadata": {
  "kernelspec": {
   "display_name": "dsh-venv",
   "language": "python",
   "name": "python3"
  },
  "language_info": {
   "name": "python",
   "version": "3.12.4"
  }
 },
 "nbformat": 4,
 "nbformat_minor": 2
}
