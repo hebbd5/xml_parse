{
 "cells": [
  {
   "cell_type": "markdown",
   "metadata": {},
   "source": [
    "# Customized Sanctions Dataset\n",
    "\n",
    "From: https://sanctionslist.ofac.treas.gov/Home/CustomizeSanctionsDataset#"
   ]
  },
  {
   "cell_type": "markdown",
   "metadata": {},
   "source": [
    "## Overview\n",
    "```\n",
    "<sanctionsData>\n",
    "    <publicationInfo> \n",
    "    <referenceValues>\n",
    "    <featureTypes>\n",
    "    <entities>\n",
    "```"
   ]
  },
  {
   "cell_type": "markdown",
   "metadata": {},
   "source": [
    "## Entities\n",
    "\n",
    "### Individuals\n",
    "```\n",
    "<entity>\n",
    "    <generalInfo>\n",
    "    <sanctionsLists>\n",
    "    <sanctionsPrograms>\n",
    "    <sanctionsTypes>\n",
    "    <legalAuthorities>\n",
    "    <names>\n",
    "    <addresses>\n",
    "    <features>\n",
    "        type\n",
    "        versionId\n",
    "        value\n",
    "        valueDate\n",
    "            fromDateBegin\n",
    "            fromDateEnd\n",
    "            toDateBegin\n",
    "            toDateEnd\n",
    "            isApproximate\n",
    "            isDateRange\n",
    "        valueRefId\n",
    "        isPrimary\n",
    "    <identityDocuments>\n",
    "    <relationships>\n",
    "```\n",
    "in custom sanctions, search....\n",
    "\n",
    "\n",
    "`IRANIAN ISLAMIC REVOLUTIONARY GUARD CORPS CYBER-ELECTRONIC COMMAND</relatedEntity>`"
   ]
  },
  {
   "cell_type": "markdown",
   "metadata": {},
   "source": []
  }
 ],
 "metadata": {
  "language_info": {
   "name": "python"
  }
 },
 "nbformat": 4,
 "nbformat_minor": 2
}
