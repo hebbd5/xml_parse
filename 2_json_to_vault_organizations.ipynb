{
 "cells": [
  {
   "cell_type": "markdown",
   "metadata": {},
   "source": [
    "# Sanctions Data Organizations Parser"
   ]
  },
  {
   "cell_type": "markdown",
   "metadata": {},
   "source": [
    "## Load JSON Sanctions Data"
   ]
  },
  {
   "cell_type": "code",
   "execution_count": 2,
   "metadata": {},
   "outputs": [],
   "source": [
    "import json\n",
    "\n",
    "json_file = \"Datasets/IRGC_sanctions.json\"\n",
    "\n",
    "with open(json_file, \"r\") as file:\n",
    "    json_f = file.read()\n",
    "    \n",
    "data = json.loads(json_f)"
   ]
  },
  {
   "cell_type": "markdown",
   "metadata": {},
   "source": [
    "## Screen for \"Entity\" Entities"
   ]
  },
  {
   "cell_type": "code",
   "execution_count": 3,
   "metadata": {},
   "outputs": [
    {
     "name": "stdout",
     "output_type": "stream",
     "text": [
      "Total entities found: 293\n",
      "Organization entities found: 84\n"
     ]
    }
   ],
   "source": [
    "entity_data = data['sanctionsData'][\"entities\"][\"entity\"]\n",
    "\n",
    "org_data = []\n",
    "\n",
    "for entity in entity_data: \n",
    "    entity_type = entity[\"generalInfo\"][\"entityType\"]\n",
    "    if entity_type == \"Entity\":\n",
    "        org_data.append(entity)\n",
    "       \n",
    "print(f\"Total entities found: {len(data['sanctionsData'][\"entities\"][\"entity\"])}\") \n",
    "print(f\"Organization entities found: {len(org_data)}\")"
   ]
  },
  {
   "cell_type": "markdown",
   "metadata": {},
   "source": [
    "## Parse Organization Data to Dict"
   ]
  },
  {
   "cell_type": "code",
   "execution_count": 117,
   "metadata": {},
   "outputs": [],
   "source": [
    "def parse_entity(entity):\n",
    "    \n",
    "    \"\"\"\n",
    "    Given an XML line of sanction data for an organization,\n",
    "    populating a dictionary with useful information.\n",
    "    \n",
    "    Returns the dictionary.\n",
    "    \"\"\"\n",
    "    ## Entity dictionary \n",
    "    entity_dict = {\n",
    "        \"name\": \"\",\n",
    "        \"sanctions_lists\": \"\",\n",
    "        \"sanctions_programs\": [],\n",
    "        \"sanctions_types\": \"\",\n",
    "        \"legal_authorities\": \"\",\n",
    "        # \"aliases\": [],\n",
    "        # \"relationships\": [],\n",
    "        # \"identity_documents\": [],\n",
    "        # \"addresses\": [],\n",
    "        # \"features\": [],\n",
    "        # \"remarks\": \"\"\n",
    "    }\n",
    "   \n",
    "    # print(entity[\"generalInfo\"][\"identityId\"])\n",
    "    \n",
    "    ## Name\n",
    "    name_ele = entity[\"names\"][\"name\"]\n",
    "   \n",
    "    ### If element is a list, assign primary and aliases\n",
    "    if type(name_ele) == list:\n",
    "        \n",
    "        for name in name_ele:\n",
    "            \n",
    "            #### Find the entity's primary full name \n",
    "            if name[\"isPrimary\"] == \"true\":\n",
    "                \n",
    "                ##### Confirm script is latin and ignore other scripts if they exist \n",
    "                if type(name[\"translations\"][\"translation\"]) == dict:\n",
    "                    entity_name = name[\"translations\"][\"translation\"][\"nameParts\"][\"namePart\"][\"value\"]\n",
    "                    entity_dict[\"name\"] = entity_name\n",
    "                    \n",
    "                elif type(name[\"translations\"][\"translation\"]) == list:\n",
    "                    for trans in name[\"translations\"][\"translation\"]:\n",
    "                        if trans[\"script\"] == \"Latin\":\n",
    "                            # This approach assumes there will only ever be one latin script translation\n",
    "                            entity_name = trans[\"nameParts\"][\"namePart\"][\"value\"]\n",
    "            \n",
    "            #### Add non-primary names as aliases  \n",
    "            elif name[\"isPrimary\"] == \"false\":\n",
    "                \n",
    "                ##### Create an alias dict value if none exist \n",
    "                if \"aliases\" not in entity_dict.keys():\n",
    "                    entity_dict[\"aliases\"] = []\n",
    "                    \n",
    "                alias_type = name[\"aliasType\"]\n",
    "                \n",
    "                ##### Confirm script is latin and ignore other scripts if they exist \n",
    "                if type(name[\"translations\"][\"translation\"]) == dict:\n",
    "                    alias = name[\"translations\"][\"translation\"][\"nameParts\"][\"namePart\"][\"value\"]\n",
    "\n",
    "                elif type(name[\"translations\"][\"translation\"]) == list:\n",
    "                    for trans in name[\"translations\"][\"translation\"]:\n",
    "                        if trans[\"script\"] == \"Latin\":\n",
    "                            # This approach assumes there will only ever be one latin script translation\n",
    "                            alias = trans[\"nameParts\"][\"namePart\"][\"value\"]\n",
    "                             \n",
    "                entity_dict[\"aliases\"].append([alias_type, alias])\n",
    "       \n",
    "    #### Parse name dict element\n",
    "    elif type(name_ele) == dict:\n",
    "        \n",
    "        ##### Confirm script is latin and ignore other scripts if they exist \n",
    "        if type(name_ele[\"translations\"][\"translation\"]) == dict:\n",
    "            entity_name = name_ele[\"translations\"][\"translation\"][\"nameParts\"][\"namePart\"][\"value\"]\n",
    "            entity_dict[\"name\"] = entity_name\n",
    "            \n",
    "        elif type(name_ele[\"translations\"][\"translation\"]) == list:\n",
    "            for trans in name_ele[\"translations\"][\"translation\"]:\n",
    "                if trans[\"script\"] == \"Latin\":\n",
    "                    # This approach assumes there will only ever be one latin script translation\n",
    "                    entity_name = trans[\"nameParts\"][\"namePart\"][\"value\"]\n",
    "                            \n",
    "        entity_dict[\"name\"] = entity_name\n",
    "    \n",
    "    \n",
    "    \n",
    "    ## Sanctions list, program, type, legal authority\n",
    "    entity_dict[\"sanctions_lists\"] = entity[\"sanctionsLists\"][\"sanctionsList\"]\n",
    "    entity_dict[\"sanctions_programs\"] = entity[\"sanctionsPrograms\"][\"sanctionsProgram\"]\n",
    "    entity_dict[\"sanctions_types\"] = entity[\"sanctionsLists\"][\"sanctionsList\"]\n",
    "    entity_dict[\"legal_authorities\"] = entity[\"legalAuthorities\"][\"legalAuthority\"]\n",
    "        \n",
    "\n",
    "\n",
    "    ## Relationships\n",
    "    if \"relationships\" in entity.keys():\n",
    "        \n",
    "        entity_dict[\"relationships\"] = []\n",
    "        relationships = entity[\"relationships\"][\"relationship\"]\n",
    "        \n",
    "        if type(relationships) == dict:\n",
    "            \n",
    "            rel_type = relationships[\"type\"]\n",
    "            rel_entity = relationships[\"relatedEntity\"]\n",
    "            entity_dict[\"relationships\"].append([rel_type, rel_entity])\n",
    "            \n",
    "        elif type(relationships) == list: \n",
    "            \n",
    "            for rel in relationships:\n",
    "                rel_type = rel[\"type\"]\n",
    "                rel_entity = rel[\"relatedEntity\"]\n",
    "                entity_dict[\"relationships\"].append([rel_type, rel_entity])            \n",
    "    \n",
    "    \n",
    "    \n",
    "    ## Identity Documents\n",
    "    if \"identityDocuments\" in entity.keys():\n",
    "    \n",
    "        entity_dict[\"identity_documents\"] = []\n",
    "        id_docs = entity[\"identityDocuments\"][\"identityDocument\"]\n",
    "        \n",
    "        if type(id_docs) == dict:\n",
    "            \n",
    "            id_type = id_docs[\"type\"]\n",
    "            id_name = id_docs[\"name\"]\n",
    "            id_docno = id_docs[\"documentNumber\"]\n",
    "            id_valid = id_docs[\"isValid\"]\n",
    "            \n",
    "            if \"issuingCountry\" in id_docs.keys(): \n",
    "                id_issuer = id_docs[\"issuingCountry\"]\n",
    "            else: id_issuer = \"\"\n",
    "            \n",
    "            entity_dict[\"identity_documents\"].append([id_type, id_name, id_docno, id_valid, id_issuer])\n",
    "            \n",
    "        elif type(id_docs) == list: \n",
    "            \n",
    "            for id in id_docs:\n",
    "                \n",
    "                id_type = id[\"type\"]\n",
    "                id_name = id[\"name\"]\n",
    "                id_docno = id[\"documentNumber\"]\n",
    "                id_valid = id[\"isValid\"]\n",
    "                \n",
    "                if \"issuingCountry\" in id.keys(): \n",
    "                    id_issuer = id[\"issuingCountry\"]\n",
    "                else: id_issuer = \"\"\n",
    "            \n",
    "                entity_dict[\"identity_documents\"].append([id_type, id_name, id_docno, id_valid, id_issuer])\n",
    "    \n",
    "      \n",
    "      \n",
    "    ## Features\n",
    "    if \"features\" in entity.keys():\n",
    "        \n",
    "        entity_dict[\"features\"] = []\n",
    "        features = entity[\"features\"][\"feature\"]\n",
    "        \n",
    "        if type(features) == dict:\n",
    "            feature_type = features[\"type\"]\n",
    "            feature_value = features[\"value\"]\n",
    "            \n",
    "            # if \"valueDate\" in features.keys():\n",
    "            #     feature_date_from = features[\"documentNumber\"]\n",
    "            # else: feature_date_from = \"\"\n",
    "            \n",
    "            entity_dict[\"features\"].append([feature_type, feature_value])\n",
    "            \n",
    "        elif type(features) == list: \n",
    "            \n",
    "            for feature in features:\n",
    "                feature_type = feature[\"type\"]\n",
    "                feature_value = feature[\"value\"]\n",
    "                entity_dict[\"features\"].append([feature_type, feature_value])\n",
    "    \n",
    "    \n",
    "    \n",
    "    ## Remarks\n",
    "    if \"remarks\" in entity[\"generalInfo\"].keys():\n",
    "        entity_dict[\"remarks\"] = entity[\"generalInfo\"][\"remarks\"]\n",
    "    \n",
    "    return entity_dict\n",
    "    "
   ]
  },
  {
   "cell_type": "code",
   "execution_count": 118,
   "metadata": {},
   "outputs": [
    {
     "data": {
      "text/plain": [
       "{'name': 'Al-Bilad Islamic Bank for Investment and Finance P.S.C.',\n",
       " 'sanctions_lists': 'SDN List',\n",
       " 'sanctions_programs': ['IFSR', 'IRGC', 'SDGT'],\n",
       " 'sanctions_types': 'SDN List',\n",
       " 'legal_authorities': 'Executive Order 13224 (Terrorism)',\n",
       " 'aliases': [['A.K.A.', 'Al Bilad Islamic Bank'],\n",
       "  ['A.K.A.', 'AL ATTA ISLAMIC BANK FOR INVESTMENT AND FINANCE'],\n",
       "  ['A.K.A.', 'AL ATAA ISLAMIC BANK FOR INVESTMENT AND FINANCE'],\n",
       "  ['A.K.A.', 'AL-ATAA ISLAMIC BANK'],\n",
       "  ['A.K.A.', 'AL-ATTA ISLAMIC BANK'],\n",
       "  ['A.K.A.', 'AL-ATTAA ISLAMIC BANK']],\n",
       " 'relationships': [['Owned or Controlled By', 'KAREEM, Aras Habib']],\n",
       " 'features': [['Additional Sanctions Information -',\n",
       "   'Subject to Secondary Sanctions'],\n",
       "  ['SWIFT/BIC', 'AIIFIQBA'],\n",
       "  ['Website', 'www.Bilad-Bank.com']],\n",
       " 'remarks': 'All Branches Worldwide'}"
      ]
     },
     "execution_count": 118,
     "metadata": {},
     "output_type": "execute_result"
    }
   ],
   "source": [
    "test_entity = org_data[24]\n",
    "# test_entity\n",
    "parse_entity(test_entity)"
   ]
  },
  {
   "cell_type": "code",
   "execution_count": 119,
   "metadata": {},
   "outputs": [
    {
     "name": "stdout",
     "output_type": "stream",
     "text": [
      "Attempts: 84\n",
      "Failed: 0\n",
      "Succeeded: 84\n",
      "Failed on: []\n"
     ]
    }
   ],
   "source": [
    "counter = 0\n",
    "fail_indexes = []\n",
    "\n",
    "entity_dicts = []\n",
    "\n",
    "for entity in org_data:\n",
    "    counter += 1\n",
    "    \n",
    "    try:\n",
    "        entity_dicts.append(parse_entity(entity))\n",
    "        \n",
    "    except:\n",
    "        fail_indexes.append(counter)\n",
    "\n",
    "print(f\"Attempts: {counter}\")\n",
    "print(f\"Failed: {len(fail_indexes)}\")\n",
    "print(f\"Succeeded: {len(entity_dicts)}\")\n",
    "print(f\"Failed on: {fail_indexes}\")"
   ]
  },
  {
   "cell_type": "markdown",
   "metadata": {},
   "source": [
    "## Convert Entities into .md Files"
   ]
  },
  {
   "cell_type": "code",
   "execution_count": 120,
   "metadata": {},
   "outputs": [],
   "source": [
    "def create_org_entity_note(entity):\n",
    "\n",
    "    file_name = f\"{entity[\"name\"]}.md\"\n",
    "    \n",
    "    text = f\"\"\"---\n",
    "Entity Type: Organization\n",
    "Sanctions Lists: {entity[\"sanctions_lists\"]}\n",
    "Sanctions Programs: {entity[\"sanctions_programs\"]}\n",
    "Sanctions Types: {entity[\"sanctions_types\"]}\n",
    "Legal Authorities: {entity[\"legal_authorities\"]}\n",
    "---\n",
    "\"\"\"\n",
    "\n",
    "    ## Remarks\n",
    "    if  \"remarks\" in entity.keys():\n",
    "        text += entity[\"remarks\"] \n",
    "        text += \"\\n\"\n",
    "\n",
    "    ## Aliases\n",
    "    if \"aliases\" in entity.keys():\n",
    "        \n",
    "        \n",
    "        alias_text = \"\"\"\n",
    "## Aliases\n",
    "| Type  | Name      | \n",
    "|-------|-----------|\n",
    "\"\"\"\n",
    "\n",
    "\n",
    "        for alias in entity[\"aliases\"]: \n",
    "            alias_line = f\"| {alias[0]} | {alias[1]} |\\n\"\n",
    "            alias_text += alias_line\n",
    "        \n",
    "        text += alias_text\n",
    "        \n",
    "        \n",
    "    ## Relationships\n",
    "        if \"relationships\" in entity.keys():\n",
    "            \n",
    "            \n",
    "            rel_text = \"\"\"\n",
    "## Relationships\n",
    "| Type  | With      | \n",
    "|-------|-----------|\n",
    "\"\"\"\n",
    "\n",
    "\n",
    "            for rel in entity[\"relationships\"]: \n",
    "                rel_line = f\"| {rel[0]} | [[{rel[1]}]] |\\n\"\n",
    "                rel_text += rel_line\n",
    "            \n",
    "            text += rel_text\n",
    "\n",
    "    ## Identity Documents\n",
    "        if \"identity_documents\" in entity.keys():\n",
    "            \n",
    "            \n",
    "            id_text = \"\"\"\n",
    "## Identity Documents\n",
    "| Type  | Name      | Document Number | Is valid |\n",
    "|-------|-----------|-----------------|----------|\n",
    "\"\"\"\n",
    "\n",
    "\n",
    "            for id in entity[\"identity_documents\"]: \n",
    "                id_line = f\"| {id[0]} | {id[1]} | {id[2]} | {id[3]} |\\n\"\n",
    "                id_text += id_line\n",
    "            \n",
    "            text += id_text\n",
    "            \n",
    "    ## Features\n",
    "        if \"features\" in entity.keys():\n",
    "            \n",
    "            \n",
    "            features_text = \"\"\"\n",
    "## Features\n",
    "| Type  | Value      |\n",
    "|-------|------------|\n",
    "\"\"\"\n",
    "\n",
    "\n",
    "            for feature in entity[\"features\"]: \n",
    "                feature_line = f\"| {feature[0]} | {feature[1]} |\\n\"\n",
    "                features_text += feature_line\n",
    "            \n",
    "            text += features_text\n",
    "            \n",
    "    return(file_name, text)\n"
   ]
  },
  {
   "cell_type": "code",
   "execution_count": 113,
   "metadata": {},
   "outputs": [
    {
     "data": {
      "text/plain": [
       "('IRGC Ground Forces.md',\n",
       " \"---\\nEntity Type: Organization\\nSanctions Lists: SDN List\\nSanctions Programs: ['FTO', 'IRGC']\\nSanctions Types: SDN List\\nLegal Authorities: INA\\n---\\n\\n## Aliases\\n| Type  | Name      | \\n|-------|-----------|\\n| A.K.A. | Islamic Revolution Guards Corps Ground Force |\\n\\n## Features\\n| Type  | Value      |\\n|-------|------------|\\n| Additional Sanctions Information - | Subject to Secondary Sanctions |\\n\")"
      ]
     },
     "execution_count": 113,
     "metadata": {},
     "output_type": "execute_result"
    }
   ],
   "source": [
    "create_org_entity_note(entity_dicts[0])\n",
    "\n",
    "# entity_dicts[0]"
   ]
  },
  {
   "cell_type": "code",
   "execution_count": 114,
   "metadata": {},
   "outputs": [
    {
     "name": "stdout",
     "output_type": "stream",
     "text": [
      "Attempts: 84\n",
      "Failed: 0\n",
      "Succeeded: 84\n",
      "Failed on: []\n"
     ]
    }
   ],
   "source": [
    "counter = 0\n",
    "fail_indexes = []\n",
    "\n",
    "entity_texts = []\n",
    "\n",
    "for entity in entity_dicts:\n",
    "    counter += 1\n",
    "    \n",
    "    try:\n",
    "        entity_texts.append(create_org_entity_note(entity))\n",
    "        \n",
    "    except:\n",
    "        fail_indexes.append(counter)\n",
    "\n",
    "print(f\"Attempts: {counter}\")\n",
    "print(f\"Failed: {len(fail_indexes)}\")\n",
    "print(f\"Succeeded: {counter - len(fail_indexes)}\")\n",
    "print(f\"Failed on: {fail_indexes}\")"
   ]
  },
  {
   "cell_type": "markdown",
   "metadata": {},
   "source": [
    "## Save Notes to Files"
   ]
  },
  {
   "cell_type": "code",
   "execution_count": 108,
   "metadata": {},
   "outputs": [],
   "source": [
    "def create_md_files(file_name, file_content):\n",
    "    \n",
    "    destination_folder = \"Vault/\"\n",
    "    \n",
    "    with open(f'{destination_folder}{file_name}', 'w') as f:\n",
    "        f.write(file_content)    "
   ]
  },
  {
   "cell_type": "code",
   "execution_count": 116,
   "metadata": {},
   "outputs": [],
   "source": [
    "for entity in entity_texts:\n",
    "    create_md_files(entity[0], entity[1])"
   ]
  }
 ],
 "metadata": {
  "kernelspec": {
   "display_name": "dsh-venv",
   "language": "python",
   "name": "dsh-venv"
  },
  "language_info": {
   "codemirror_mode": {
    "name": "ipython",
    "version": 3
   },
   "file_extension": ".py",
   "mimetype": "text/x-python",
   "name": "python",
   "nbconvert_exporter": "python",
   "pygments_lexer": "ipython3",
   "version": "3.12.2"
  }
 },
 "nbformat": 4,
 "nbformat_minor": 2
}
